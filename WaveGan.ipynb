{
 "cells": [
  {
   "cell_type": "code",
   "execution_count": 1,
   "metadata": {},
   "outputs": [],
   "source": [
    "import numpy as np\n",
    "from IPython.display import Audio, clear_output\n",
    "import tensorflow as tf\n",
    "from tensorflow.keras.layers import *\n",
    "from tensorflow.keras.optimizers import Adam\n",
    "from tensorflow.keras.models import Sequential, Model\n",
    "dataset = np.load(\"preprocess_data.npy\")"
   ]
  },
  {
   "cell_type": "code",
   "execution_count": 2,
   "metadata": {},
   "outputs": [
    {
     "data": {
      "text/plain": [
       "(17258, 256)"
      ]
     },
     "execution_count": 2,
     "metadata": {},
     "output_type": "execute_result"
    }
   ],
   "source": [
    "dataset.shape"
   ]
  },
  {
   "cell_type": "code",
   "execution_count": 3,
   "metadata": {},
   "outputs": [],
   "source": [
    "dataset = dataset[:3000]"
   ]
  },
  {
   "cell_type": "code",
   "execution_count": 4,
   "metadata": {},
   "outputs": [
    {
     "data": {
      "text/plain": [
       "(3000, 256)"
      ]
     },
     "execution_count": 4,
     "metadata": {},
     "output_type": "execute_result"
    }
   ],
   "source": [
    "dataset = (dataset/128).astype(np.float32)\n",
    "dataset.shape"
   ]
  },
  {
   "cell_type": "code",
   "execution_count": 5,
   "metadata": {},
   "outputs": [
    {
     "data": {
      "text/plain": [
       "<BatchDataset shapes: (128, 256), types: tf.float32>"
      ]
     },
     "execution_count": 5,
     "metadata": {},
     "output_type": "execute_result"
    }
   ],
   "source": [
    "BATCH_SIZE = 128\n",
    "train_dataset = tf.data.Dataset.from_tensor_slices(dataset).batch(BATCH_SIZE,drop_remainder=True)\n",
    "train_dataset"
   ]
  },
  {
   "cell_type": "code",
   "execution_count": 6,
   "metadata": {},
   "outputs": [],
   "source": [
    "from math import sqrt\n",
    "seq_len = 256\n",
    "gen_len = int(sqrt(seq_len))"
   ]
  },
  {
   "cell_type": "code",
   "execution_count": 7,
   "metadata": {},
   "outputs": [],
   "source": [
    "def WaveGANGenerator():\n",
    "    model = tf.keras.Sequential([\n",
    "        Dense(seq_len,  activation='relu',input_shape=(seq_len,)),\n",
    "        Reshape((1,seq_len)),\n",
    "        \n",
    "        Conv1D(64, kernel_size=25, strides=4, padding=\"same\"),\n",
    "        BatchNormalization(momentum=0.8),\n",
    "        ReLU(),\n",
    "        \n",
    "        Conv1D(128,kernel_size=25, strides=4,padding='same'),\n",
    "        BatchNormalization(momentum=0.8),\n",
    "        ReLU(),\n",
    "        \n",
    "        Conv1D(seq_len,kernel_size=25,strides=4, padding='same'),\n",
    "        BatchNormalization(momentum=0.8),\n",
    "        ReLU(),\n",
    "        \n",
    "        Conv1D(seq_len,kernel_size=25,strides=4, padding='same'),\n",
    "        BatchNormalization(momentum=0.8),\n",
    "        ReLU(),\n",
    "        \n",
    "        Flatten(),\n",
    "        Dense(seq_len, activation='sigmoid')\n",
    "    ])\n",
    "    return model"
   ]
  },
  {
   "cell_type": "code",
   "execution_count": 8,
   "metadata": {
    "scrolled": true,
    "tags": []
   },
   "outputs": [
    {
     "name": "stdout",
     "output_type": "stream",
     "text": [
      "Model: \"sequential\"\n",
      "_________________________________________________________________\n",
      "Layer (type)                 Output Shape              Param #   \n",
      "=================================================================\n",
      "dense (Dense)                (None, 256)               65792     \n",
      "_________________________________________________________________\n",
      "reshape (Reshape)            (None, 1, 256)            0         \n",
      "_________________________________________________________________\n",
      "conv1d (Conv1D)              (None, 1, 64)             409664    \n",
      "_________________________________________________________________\n",
      "batch_normalization (BatchNo (None, 1, 64)             256       \n",
      "_________________________________________________________________\n",
      "re_lu (ReLU)                 (None, 1, 64)             0         \n",
      "_________________________________________________________________\n",
      "conv1d_1 (Conv1D)            (None, 1, 128)            204928    \n",
      "_________________________________________________________________\n",
      "batch_normalization_1 (Batch (None, 1, 128)            512       \n",
      "_________________________________________________________________\n",
      "re_lu_1 (ReLU)               (None, 1, 128)            0         \n",
      "_________________________________________________________________\n",
      "conv1d_2 (Conv1D)            (None, 1, 256)            819456    \n",
      "_________________________________________________________________\n",
      "batch_normalization_2 (Batch (None, 1, 256)            1024      \n",
      "_________________________________________________________________\n",
      "re_lu_2 (ReLU)               (None, 1, 256)            0         \n",
      "_________________________________________________________________\n",
      "conv1d_3 (Conv1D)            (None, 1, 256)            1638656   \n",
      "_________________________________________________________________\n",
      "batch_normalization_3 (Batch (None, 1, 256)            1024      \n",
      "_________________________________________________________________\n",
      "re_lu_3 (ReLU)               (None, 1, 256)            0         \n",
      "_________________________________________________________________\n",
      "flatten (Flatten)            (None, 256)               0         \n",
      "_________________________________________________________________\n",
      "dense_1 (Dense)              (None, 256)               65792     \n",
      "=================================================================\n",
      "Total params: 3,207,104\n",
      "Trainable params: 3,205,696\n",
      "Non-trainable params: 1,408\n",
      "_________________________________________________________________\n"
     ]
    }
   ],
   "source": [
    "generator = WaveGANGenerator()\n",
    "generator.summary()"
   ]
  },
  {
   "cell_type": "code",
   "execution_count": 9,
   "metadata": {},
   "outputs": [],
   "source": [
    "def WaveGANDiscriminator():\n",
    "    model = tf.keras.Sequential([\n",
    "        \n",
    "        Dense(seq_len,  activation='relu',input_shape=(seq_len,)),\n",
    "        Reshape((1,seq_len)),\n",
    "        \n",
    "        Conv1D(64, kernel_size=25, strides=4, padding=\"same\"),\n",
    "        BatchNormalization(momentum=0.8),\n",
    "        ReLU(),\n",
    "    \n",
    "        Conv1D(seq_len,kernel_size=25,strides=4, padding='same'),\n",
    "        BatchNormalization(momentum=0.8),\n",
    "        ReLU(),\n",
    "        \n",
    "        Conv1D(seq_len,kernel_size=25,strides=4, padding='same'),\n",
    "        BatchNormalization(momentum=0.8),\n",
    "        ReLU(),\n",
    "        \n",
    "        Flatten(),\n",
    "        Dense(seq_len, activation='sigmoid')\n",
    "        ])\n",
    "    return model"
   ]
  },
  {
   "cell_type": "code",
   "execution_count": 10,
   "metadata": {
    "scrolled": true,
    "tags": []
   },
   "outputs": [
    {
     "name": "stdout",
     "output_type": "stream",
     "text": [
      "Model: \"sequential_1\"\n",
      "_________________________________________________________________\n",
      "Layer (type)                 Output Shape              Param #   \n",
      "=================================================================\n",
      "dense_2 (Dense)              (None, 256)               65792     \n",
      "_________________________________________________________________\n",
      "reshape_1 (Reshape)          (None, 1, 256)            0         \n",
      "_________________________________________________________________\n",
      "conv1d_4 (Conv1D)            (None, 1, 64)             409664    \n",
      "_________________________________________________________________\n",
      "batch_normalization_4 (Batch (None, 1, 64)             256       \n",
      "_________________________________________________________________\n",
      "re_lu_4 (ReLU)               (None, 1, 64)             0         \n",
      "_________________________________________________________________\n",
      "conv1d_5 (Conv1D)            (None, 1, 256)            409856    \n",
      "_________________________________________________________________\n",
      "batch_normalization_5 (Batch (None, 1, 256)            1024      \n",
      "_________________________________________________________________\n",
      "re_lu_5 (ReLU)               (None, 1, 256)            0         \n",
      "_________________________________________________________________\n",
      "conv1d_6 (Conv1D)            (None, 1, 256)            1638656   \n",
      "_________________________________________________________________\n",
      "batch_normalization_6 (Batch (None, 1, 256)            1024      \n",
      "_________________________________________________________________\n",
      "re_lu_6 (ReLU)               (None, 1, 256)            0         \n",
      "_________________________________________________________________\n",
      "flatten_1 (Flatten)          (None, 256)               0         \n",
      "_________________________________________________________________\n",
      "dense_3 (Dense)              (None, 256)               65792     \n",
      "=================================================================\n",
      "Total params: 2,592,064\n",
      "Trainable params: 2,590,912\n",
      "Non-trainable params: 1,152\n",
      "_________________________________________________________________\n"
     ]
    }
   ],
   "source": [
    "discriminator=  WaveGANDiscriminator()\n",
    "discriminator.summary()"
   ]
  },
  {
   "cell_type": "code",
   "execution_count": 11,
   "metadata": {},
   "outputs": [],
   "source": [
    "## DCGAN\n",
    "\n",
    "cross_entropy = tf.keras.losses.BinaryCrossentropy(from_logits=True)\n",
    "def generator_loss(fake_output):\n",
    "    return cross_entropy(tf.ones_like(fake_output), fake_output)\n",
    "def discriminator_loss(real_output, fake_output):\n",
    "    real_loss = cross_entropy(tf.ones_like(real_output), real_output)\n",
    "    fake_loss = cross_entropy(tf.zeros_like(fake_output), fake_output)\n",
    "    total_loss = real_loss + fake_loss\n",
    "    return total_loss\n"
   ]
  },
  {
   "cell_type": "code",
   "execution_count": 12,
   "metadata": {},
   "outputs": [],
   "source": [
    "@tf.function\n",
    "def train_step(music):\n",
    "    LAMBDA = 10\n",
    "    noise = tf.random.normal([BATCH_SIZE,seq_len])\n",
    "    with tf.GradientTape() as gen_tape, tf.GradientTape() as disc_tape:\n",
    "        \n",
    "        \n",
    "        generated_music = generator(noise, training=True)\n",
    "        real_output = discriminator(music, training=True)\n",
    "        fake_output = discriminator(generated_music, training=True)\n",
    "        gen_loss = generator_loss(fake_output)\n",
    "        disc_loss = discriminator_loss(fake_output,real_output)       \n",
    "\n",
    "    gradients_of_generator = gen_tape.gradient(gen_loss, generator.trainable_variables)\n",
    "    gradients_of_discriminator = disc_tape.gradient(disc_loss, discriminator.trainable_variables)\n",
    "    \n",
    "    \n",
    "    generator_optimizer.apply_gradients(zip(gradients_of_generator, generator.trainable_variables))\n",
    "    discriminator_optimizer.apply_gradients(zip(gradients_of_discriminator, discriminator.trainable_variables))\n",
    "    \n",
    "    return gen_loss,disc_loss"
   ]
  },
  {
   "cell_type": "code",
   "execution_count": 13,
   "metadata": {},
   "outputs": [],
   "source": [
    "import time\n",
    "total_Gloss = []\n",
    "total_Dloss = []\n",
    "def train(dataset, epochs):\n",
    "    for epoch in range(epochs):\n",
    "        start = time.time()\n",
    "        G_loss = 0\n",
    "        D_loss = 0\n",
    "        for i,image_batch in enumerate(dataset):\n",
    "            gen_loss,disc_loss = train_step(image_batch)\n",
    "            print(f\"Step：{i} | G_loss：{gen_loss} D_loss：{disc_loss}|\")\n",
    "            G_loss += gen_loss\n",
    "            D_loss += disc_loss\n",
    "        clear_output(wait=True)\n",
    "        print (f'Time for epoch {epoch + 1} is {time.time()-start} sec\\n')\n",
    "        print(f'G_AVE_Loss：{G_loss/len(dataset)}')\n",
    "        print(f'D_AVE_loss：{D_loss/len(dataset)}')\n",
    "        total_Gloss.append(G_loss/len(dataset))\n",
    "        total_Dloss.append(D_loss/len(dataset))"
   ]
  },
  {
   "cell_type": "code",
   "execution_count": 14,
   "metadata": {},
   "outputs": [],
   "source": [
    "generator_optimizer = tf.keras.optimizers.Adam(1e-4)\n",
    "discriminator_optimizer = tf.keras.optimizers.Adam(1e-4)"
   ]
  },
  {
   "cell_type": "code",
   "execution_count": 15,
   "metadata": {},
   "outputs": [
    {
     "name": "stdout",
     "output_type": "stream",
     "text": [
      "Time for epoch 4 is 19.168875217437744 sec\n",
      "\n",
      "G_AVE_Loss：0.7063077092170715\n",
      "D_AVE_loss：1.3727275133132935\n",
      "Step：0 | G_loss：0.7022656202316284 D_loss：1.3465490341186523|\n",
      "Step：1 | G_loss：0.694482684135437 D_loss：1.33878493309021|\n",
      "Step：2 | G_loss：0.711487889289856 D_loss：1.3579185009002686|\n",
      "Step：3 | G_loss：0.6897322535514832 D_loss：1.3274164199829102|\n",
      "Step：4 | G_loss：0.7002146244049072 D_loss：1.3402560949325562|\n",
      "Step：5 | G_loss：0.6995708346366882 D_loss：1.3373827934265137|\n",
      "Step：6 | G_loss：0.7031548023223877 D_loss：1.3386937379837036|\n",
      "Step：7 | G_loss：0.7019153833389282 D_loss：1.3361603021621704|\n",
      "Step：8 | G_loss：0.697178304195404 D_loss：1.324415922164917|\n",
      "Step：9 | G_loss：0.6968964338302612 D_loss：1.3245368003845215|\n",
      "Step：10 | G_loss：0.6897846460342407 D_loss：1.3165645599365234|\n",
      "Step：11 | G_loss：0.6908230185508728 D_loss：1.319263219833374|\n",
      "Step：12 | G_loss：0.6874436140060425 D_loss：1.308453917503357|\n",
      "Step：13 | G_loss：0.6899881362915039 D_loss：1.3133974075317383|\n",
      "Step：14 | G_loss：0.6820655465126038 D_loss：1.3025352954864502|\n",
      "Step：15 | G_loss：0.6847153902053833 D_loss：1.298858404159546|\n",
      "Step：16 | G_loss：0.6792678833007812 D_loss：1.2974014282226562|\n",
      "Step：17 | G_loss：0.6739331483840942 D_loss：1.2900631427764893|\n",
      "Step：18 | G_loss：0.6780728101730347 D_loss：1.286997675895691|\n"
     ]
    },
    {
     "ename": "KeyboardInterrupt",
     "evalue": "",
     "output_type": "error",
     "traceback": [
      "\u001b[1;31m---------------------------------------------------------------------------\u001b[0m",
      "\u001b[1;31mKeyboardInterrupt\u001b[0m                         Traceback (most recent call last)",
      "\u001b[1;32m<ipython-input-15-5df6ad43e660>\u001b[0m in \u001b[0;36m<module>\u001b[1;34m\u001b[0m\n\u001b[1;32m----> 1\u001b[1;33m \u001b[0mtrain\u001b[0m\u001b[1;33m(\u001b[0m\u001b[0mtrain_dataset\u001b[0m\u001b[1;33m,\u001b[0m \u001b[1;36m100\u001b[0m\u001b[1;33m)\u001b[0m\u001b[1;33m\u001b[0m\u001b[1;33m\u001b[0m\u001b[0m\n\u001b[0m",
      "\u001b[1;32m<ipython-input-13-95009de676d1>\u001b[0m in \u001b[0;36mtrain\u001b[1;34m(dataset, epochs)\u001b[0m\n\u001b[0;32m      8\u001b[0m         \u001b[0mD_loss\u001b[0m \u001b[1;33m=\u001b[0m \u001b[1;36m0\u001b[0m\u001b[1;33m\u001b[0m\u001b[1;33m\u001b[0m\u001b[0m\n\u001b[0;32m      9\u001b[0m         \u001b[1;32mfor\u001b[0m \u001b[0mi\u001b[0m\u001b[1;33m,\u001b[0m\u001b[0mimage_batch\u001b[0m \u001b[1;32min\u001b[0m \u001b[0menumerate\u001b[0m\u001b[1;33m(\u001b[0m\u001b[0mdataset\u001b[0m\u001b[1;33m)\u001b[0m\u001b[1;33m:\u001b[0m\u001b[1;33m\u001b[0m\u001b[1;33m\u001b[0m\u001b[0m\n\u001b[1;32m---> 10\u001b[1;33m             \u001b[0mgen_loss\u001b[0m\u001b[1;33m,\u001b[0m\u001b[0mdisc_loss\u001b[0m \u001b[1;33m=\u001b[0m \u001b[0mtrain_step\u001b[0m\u001b[1;33m(\u001b[0m\u001b[0mimage_batch\u001b[0m\u001b[1;33m)\u001b[0m\u001b[1;33m\u001b[0m\u001b[1;33m\u001b[0m\u001b[0m\n\u001b[0m\u001b[0;32m     11\u001b[0m             \u001b[0mprint\u001b[0m\u001b[1;33m(\u001b[0m\u001b[1;34mf\"Step：{i} | G_loss：{gen_loss} D_loss：{disc_loss}|\"\u001b[0m\u001b[1;33m)\u001b[0m\u001b[1;33m\u001b[0m\u001b[1;33m\u001b[0m\u001b[0m\n\u001b[0;32m     12\u001b[0m             \u001b[0mG_loss\u001b[0m \u001b[1;33m+=\u001b[0m \u001b[0mgen_loss\u001b[0m\u001b[1;33m\u001b[0m\u001b[1;33m\u001b[0m\u001b[0m\n",
      "\u001b[1;32mc:\\users\\user\\appdata\\local\\programs\\python\\python37\\lib\\site-packages\\tensorflow\\python\\eager\\def_function.py\u001b[0m in \u001b[0;36m__call__\u001b[1;34m(self, *args, **kwds)\u001b[0m\n\u001b[0;32m    826\u001b[0m     \u001b[0mtracing_count\u001b[0m \u001b[1;33m=\u001b[0m \u001b[0mself\u001b[0m\u001b[1;33m.\u001b[0m\u001b[0mexperimental_get_tracing_count\u001b[0m\u001b[1;33m(\u001b[0m\u001b[1;33m)\u001b[0m\u001b[1;33m\u001b[0m\u001b[1;33m\u001b[0m\u001b[0m\n\u001b[0;32m    827\u001b[0m     \u001b[1;32mwith\u001b[0m \u001b[0mtrace\u001b[0m\u001b[1;33m.\u001b[0m\u001b[0mTrace\u001b[0m\u001b[1;33m(\u001b[0m\u001b[0mself\u001b[0m\u001b[1;33m.\u001b[0m\u001b[0m_name\u001b[0m\u001b[1;33m)\u001b[0m \u001b[1;32mas\u001b[0m \u001b[0mtm\u001b[0m\u001b[1;33m:\u001b[0m\u001b[1;33m\u001b[0m\u001b[1;33m\u001b[0m\u001b[0m\n\u001b[1;32m--> 828\u001b[1;33m       \u001b[0mresult\u001b[0m \u001b[1;33m=\u001b[0m \u001b[0mself\u001b[0m\u001b[1;33m.\u001b[0m\u001b[0m_call\u001b[0m\u001b[1;33m(\u001b[0m\u001b[1;33m*\u001b[0m\u001b[0margs\u001b[0m\u001b[1;33m,\u001b[0m \u001b[1;33m**\u001b[0m\u001b[0mkwds\u001b[0m\u001b[1;33m)\u001b[0m\u001b[1;33m\u001b[0m\u001b[1;33m\u001b[0m\u001b[0m\n\u001b[0m\u001b[0;32m    829\u001b[0m       \u001b[0mcompiler\u001b[0m \u001b[1;33m=\u001b[0m \u001b[1;34m\"xla\"\u001b[0m \u001b[1;32mif\u001b[0m \u001b[0mself\u001b[0m\u001b[1;33m.\u001b[0m\u001b[0m_experimental_compile\u001b[0m \u001b[1;32melse\u001b[0m \u001b[1;34m\"nonXla\"\u001b[0m\u001b[1;33m\u001b[0m\u001b[1;33m\u001b[0m\u001b[0m\n\u001b[0;32m    830\u001b[0m       \u001b[0mnew_tracing_count\u001b[0m \u001b[1;33m=\u001b[0m \u001b[0mself\u001b[0m\u001b[1;33m.\u001b[0m\u001b[0mexperimental_get_tracing_count\u001b[0m\u001b[1;33m(\u001b[0m\u001b[1;33m)\u001b[0m\u001b[1;33m\u001b[0m\u001b[1;33m\u001b[0m\u001b[0m\n",
      "\u001b[1;32mc:\\users\\user\\appdata\\local\\programs\\python\\python37\\lib\\site-packages\\tensorflow\\python\\eager\\def_function.py\u001b[0m in \u001b[0;36m_call\u001b[1;34m(self, *args, **kwds)\u001b[0m\n\u001b[0;32m    853\u001b[0m       \u001b[1;31m# In this case we have created variables on the first call, so we run the\u001b[0m\u001b[1;33m\u001b[0m\u001b[1;33m\u001b[0m\u001b[1;33m\u001b[0m\u001b[0m\n\u001b[0;32m    854\u001b[0m       \u001b[1;31m# defunned version which is guaranteed to never create variables.\u001b[0m\u001b[1;33m\u001b[0m\u001b[1;33m\u001b[0m\u001b[1;33m\u001b[0m\u001b[0m\n\u001b[1;32m--> 855\u001b[1;33m       \u001b[1;32mreturn\u001b[0m \u001b[0mself\u001b[0m\u001b[1;33m.\u001b[0m\u001b[0m_stateless_fn\u001b[0m\u001b[1;33m(\u001b[0m\u001b[1;33m*\u001b[0m\u001b[0margs\u001b[0m\u001b[1;33m,\u001b[0m \u001b[1;33m**\u001b[0m\u001b[0mkwds\u001b[0m\u001b[1;33m)\u001b[0m  \u001b[1;31m# pylint: disable=not-callable\u001b[0m\u001b[1;33m\u001b[0m\u001b[1;33m\u001b[0m\u001b[0m\n\u001b[0m\u001b[0;32m    856\u001b[0m     \u001b[1;32melif\u001b[0m \u001b[0mself\u001b[0m\u001b[1;33m.\u001b[0m\u001b[0m_stateful_fn\u001b[0m \u001b[1;32mis\u001b[0m \u001b[1;32mnot\u001b[0m \u001b[1;32mNone\u001b[0m\u001b[1;33m:\u001b[0m\u001b[1;33m\u001b[0m\u001b[1;33m\u001b[0m\u001b[0m\n\u001b[0;32m    857\u001b[0m       \u001b[1;31m# Release the lock early so that multiple threads can perform the call\u001b[0m\u001b[1;33m\u001b[0m\u001b[1;33m\u001b[0m\u001b[1;33m\u001b[0m\u001b[0m\n",
      "\u001b[1;32mc:\\users\\user\\appdata\\local\\programs\\python\\python37\\lib\\site-packages\\tensorflow\\python\\eager\\function.py\u001b[0m in \u001b[0;36m__call__\u001b[1;34m(self, *args, **kwargs)\u001b[0m\n\u001b[0;32m   2941\u001b[0m        filtered_flat_args) = self._maybe_define_function(args, kwargs)\n\u001b[0;32m   2942\u001b[0m     return graph_function._call_flat(\n\u001b[1;32m-> 2943\u001b[1;33m         filtered_flat_args, captured_inputs=graph_function.captured_inputs)  # pylint: disable=protected-access\n\u001b[0m\u001b[0;32m   2944\u001b[0m \u001b[1;33m\u001b[0m\u001b[0m\n\u001b[0;32m   2945\u001b[0m   \u001b[1;33m@\u001b[0m\u001b[0mproperty\u001b[0m\u001b[1;33m\u001b[0m\u001b[1;33m\u001b[0m\u001b[0m\n",
      "\u001b[1;32mc:\\users\\user\\appdata\\local\\programs\\python\\python37\\lib\\site-packages\\tensorflow\\python\\eager\\function.py\u001b[0m in \u001b[0;36m_call_flat\u001b[1;34m(self, args, captured_inputs, cancellation_manager)\u001b[0m\n\u001b[0;32m   1917\u001b[0m       \u001b[1;31m# No tape is watching; skip to running the function.\u001b[0m\u001b[1;33m\u001b[0m\u001b[1;33m\u001b[0m\u001b[1;33m\u001b[0m\u001b[0m\n\u001b[0;32m   1918\u001b[0m       return self._build_call_outputs(self._inference_function.call(\n\u001b[1;32m-> 1919\u001b[1;33m           ctx, args, cancellation_manager=cancellation_manager))\n\u001b[0m\u001b[0;32m   1920\u001b[0m     forward_backward = self._select_forward_and_backward_functions(\n\u001b[0;32m   1921\u001b[0m         \u001b[0margs\u001b[0m\u001b[1;33m,\u001b[0m\u001b[1;33m\u001b[0m\u001b[1;33m\u001b[0m\u001b[0m\n",
      "\u001b[1;32mc:\\users\\user\\appdata\\local\\programs\\python\\python37\\lib\\site-packages\\tensorflow\\python\\eager\\function.py\u001b[0m in \u001b[0;36mcall\u001b[1;34m(self, ctx, args, cancellation_manager)\u001b[0m\n\u001b[0;32m    558\u001b[0m               \u001b[0minputs\u001b[0m\u001b[1;33m=\u001b[0m\u001b[0margs\u001b[0m\u001b[1;33m,\u001b[0m\u001b[1;33m\u001b[0m\u001b[1;33m\u001b[0m\u001b[0m\n\u001b[0;32m    559\u001b[0m               \u001b[0mattrs\u001b[0m\u001b[1;33m=\u001b[0m\u001b[0mattrs\u001b[0m\u001b[1;33m,\u001b[0m\u001b[1;33m\u001b[0m\u001b[1;33m\u001b[0m\u001b[0m\n\u001b[1;32m--> 560\u001b[1;33m               ctx=ctx)\n\u001b[0m\u001b[0;32m    561\u001b[0m         \u001b[1;32melse\u001b[0m\u001b[1;33m:\u001b[0m\u001b[1;33m\u001b[0m\u001b[1;33m\u001b[0m\u001b[0m\n\u001b[0;32m    562\u001b[0m           outputs = execute.execute_with_cancellation(\n",
      "\u001b[1;32mc:\\users\\user\\appdata\\local\\programs\\python\\python37\\lib\\site-packages\\tensorflow\\python\\eager\\execute.py\u001b[0m in \u001b[0;36mquick_execute\u001b[1;34m(op_name, num_outputs, inputs, attrs, ctx, name)\u001b[0m\n\u001b[0;32m     58\u001b[0m     \u001b[0mctx\u001b[0m\u001b[1;33m.\u001b[0m\u001b[0mensure_initialized\u001b[0m\u001b[1;33m(\u001b[0m\u001b[1;33m)\u001b[0m\u001b[1;33m\u001b[0m\u001b[1;33m\u001b[0m\u001b[0m\n\u001b[0;32m     59\u001b[0m     tensors = pywrap_tfe.TFE_Py_Execute(ctx._handle, device_name, op_name,\n\u001b[1;32m---> 60\u001b[1;33m                                         inputs, attrs, num_outputs)\n\u001b[0m\u001b[0;32m     61\u001b[0m   \u001b[1;32mexcept\u001b[0m \u001b[0mcore\u001b[0m\u001b[1;33m.\u001b[0m\u001b[0m_NotOkStatusException\u001b[0m \u001b[1;32mas\u001b[0m \u001b[0me\u001b[0m\u001b[1;33m:\u001b[0m\u001b[1;33m\u001b[0m\u001b[1;33m\u001b[0m\u001b[0m\n\u001b[0;32m     62\u001b[0m     \u001b[1;32mif\u001b[0m \u001b[0mname\u001b[0m \u001b[1;32mis\u001b[0m \u001b[1;32mnot\u001b[0m \u001b[1;32mNone\u001b[0m\u001b[1;33m:\u001b[0m\u001b[1;33m\u001b[0m\u001b[1;33m\u001b[0m\u001b[0m\n",
      "\u001b[1;31mKeyboardInterrupt\u001b[0m: "
     ]
    }
   ],
   "source": [
    "train(train_dataset, 100)"
   ]
  },
  {
   "cell_type": "code",
   "execution_count": null,
   "metadata": {},
   "outputs": [],
   "source": [
    "import random\n",
    "from mido import MidiFile, MidiTrack, Message\n",
    "noise =   np.random.normal(0,1,(1,seq_len))\n",
    "predict = generator.predict(noise)\n",
    "predict = predict*127"
   ]
  },
  {
   "cell_type": "code",
   "execution_count": null,
   "metadata": {},
   "outputs": [],
   "source": [
    "max(predict[0])"
   ]
  },
  {
   "cell_type": "code",
   "execution_count": null,
   "metadata": {},
   "outputs": [],
   "source": [
    "midler = MidiFile()\n",
    "track = MidiTrack()\n",
    "midler.tracks.append(track)\n",
    "\n",
    "track.append(Message('program_change', program=2, time=0))\n",
    "for x in range(seq_len):\n",
    "    on_interval = random.randint(0,127)\n",
    "    off_interval = random.randint(0,127)\n",
    "    change_interval = random.randint(0,127)\n",
    "    change_value = random.randint(0,127)\n",
    "    isControl = random.randint(0,1)\n",
    "    track.append(Message('note_on',channel =1, note=int(predict[0][x]), velocity=64, time = on_interval)) \n",
    "    if isControl:\n",
    "         track.append(Message('control_change',channel =1, control=64, value=change_value, time = change_interval)) \n",
    "    track.append(Message('note_off',channel =1 ,note=int(predict[0][x]), velocity=64, time = off_interval))\n",
    "    midler.save('WaveGan.mid')"
   ]
  },
  {
   "cell_type": "code",
   "execution_count": null,
   "metadata": {},
   "outputs": [],
   "source": [
    "np.save('0612_wavengan_gloss.npy', np.array(total_Gloss))\n",
    "np.save('0612_wavengan_dis_dloss.npy',np.array(total_Dloss ))"
   ]
  },
  {
   "cell_type": "code",
   "execution_count": 2,
   "metadata": {},
   "outputs": [
    {
     "data": {
      "text/plain": [
       "array([1.4776595 , 1.4487407 , 1.4299046 , 1.4135332 , 1.3989254 ,\n",
       "       1.3801223 , 1.3507127 , 1.3000921 , 1.2238885 , 1.1431016 ,\n",
       "       1.0495695 , 0.95805186, 0.8750216 , 0.7979662 , 0.7287936 ,\n",
       "       0.67089903, 0.6162987 , 0.55574286, 0.52047896, 0.45952192,\n",
       "       0.43803957, 0.40448678, 0.36714604, 0.33876175, 0.31125563,\n",
       "       0.29856473, 0.27447128, 0.25578004, 0.23886243, 0.23154959,\n",
       "       0.22238016, 0.19697061, 0.18751027, 0.17610978, 0.16376483,\n",
       "       0.15811063, 0.14191136, 0.13599478, 0.1465556 , 0.13182703,\n",
       "       0.1252712 , 0.11220514, 0.10398987, 0.10409389, 0.09507309,\n",
       "       0.09335051, 0.08579105, 0.09893492, 0.09109709, 0.08050581,\n",
       "       0.07830118, 0.07456189, 0.07194372, 0.0665047 , 0.06447583,\n",
       "       0.06629994, 0.05993115, 0.05583855, 0.05334733, 0.04988665,\n",
       "       0.0474213 , 0.04645086, 0.04563548, 0.04313833, 0.04220815,\n",
       "       0.04007551, 0.03865317, 0.03767962, 0.0358358 , 0.03519069,\n",
       "       0.0348844 , 0.03148047, 0.03152269, 0.03046593, 0.0298673 ,\n",
       "       0.02910921, 0.02736633, 0.02759394, 0.02595207, 0.02525394,\n",
       "       0.02435207, 0.02289002, 0.02225768, 0.02150486, 0.02059982,\n",
       "       0.02461671, 0.02168812, 0.02150145, 0.02039015, 0.01885499,\n",
       "       0.01791896, 0.01853988, 0.01713573, 0.01719228, 0.01601601,\n",
       "       0.01588744, 0.01559655, 0.01476951, 0.01462264, 0.01483667],\n",
       "      dtype=float32)"
      ]
     },
     "execution_count": 2,
     "metadata": {},
     "output_type": "execute_result"
    }
   ],
   "source": [
    "import numpy as np\n",
    "np.load('0612_wavengan_gloss.npy')\n",
    "np.load('0612_wavengan_dis_dloss.npy')"
   ]
  },
  {
   "cell_type": "code",
   "execution_count": 3,
   "metadata": {},
   "outputs": [
    {
     "data": {
      "image/png": "[encoded data removed]",
      "text/plain": [
       "<Figure size 432x288 with 1 Axes>"
      ]
     },
     "metadata": {
      "needs_background": "light"
     },
     "output_type": "display_data"
    }
   ],
   "source": [
    "import matplotlib.pyplot as plt\n",
    "g = np.load('0612_wavengan_gloss.npy')\n",
    "month = [i for i in range(len(g))]\n",
    "plt.plot(g,'s-',color = 'r', label=\"generator loss\")\n",
    "d=np.load('0612_wavengan_dis_dloss.npy')\n",
    "plt.plot(d,'s-',color = 'b', label=\"discriminator loss\")\n",
    "plt.legend(loc = \"best\", fontsize=10)\n",
    "plt.show()"
   ]
  },
  {
   "cell_type": "code",
   "execution_count": null,
   "metadata": {},
   "outputs": [],
   "source": []
  }
 ],
 "metadata": {
  "kernelspec": {
   "display_name": "Python 3",
   "language": "python",
   "name": "python3"
  },
  "language_info": {
   "codemirror_mode": {
    "name": "ipython",
    "version": 3
   },
   "file_extension": ".py",
   "mimetype": "text/x-python",
   "name": "python",
   "nbconvert_exporter": "python",
   "pygments_lexer": "ipython3",
   "version": "3.7.9"
  }
 },
 "nbformat": 4,
 "nbformat_minor": 5
}
