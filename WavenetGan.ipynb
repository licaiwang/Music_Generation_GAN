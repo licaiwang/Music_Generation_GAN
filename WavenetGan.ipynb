{
 "cells": [
  {
   "cell_type": "code",
   "execution_count": 1,
   "metadata": {},
   "outputs": [],
   "source": [
    "import mido # easy to use python MIDI library\n",
    "import numpy as np # linear algebra\n",
    "import os # accessing directory structure\n",
    "import time\n",
    "from mido import MidiFile, MidiTrack, Message\n",
    "from IPython.display import Audio, clear_output"
   ]
  },
  {
   "cell_type": "code",
   "execution_count": 2,
   "metadata": {},
   "outputs": [
    {
     "data": {
      "text/plain": [
       "['Music-GPT-tf2.ipynb',\n",
       " '.ipynb_checkpoints',\n",
       " 'preprocessing.ipynb',\n",
       " 'WaveGan.ipynb',\n",
       " 'baseline_blue.ipynb',\n",
       " 'wavenet_gen_gloss.npy',\n",
       " '0612_wavenet_dis_dloss.npy',\n",
       " 'generator.h5',\n",
       " 'MusicTransformer.ipynb',\n",
       " 'new_song4.mid',\n",
       " 'WaveGan-waveform_version.ipynb',\n",
       " '0612_wavenet_gen_gloss.npy',\n",
       " 'wavenet_dis_dloss.npy',\n",
       " 'new_song3.mid',\n",
       " 'blues.zip',\n",
       " 'data_midi.zip',\n",
       " 'baseline_all.ipynb',\n",
       " 'new_song_5.mid',\n",
       " 'blues',\n",
       " 'data_midi',\n",
       " 'Bidirectional_GRU_GAN.ipynb',\n",
       " 'new_song1.mid']"
      ]
     },
     "execution_count": 2,
     "metadata": {},
     "output_type": "execute_result"
    }
   ],
   "source": [
    "os.listdir()"
   ]
  },
  {
   "cell_type": "code",
   "execution_count": 3,
   "metadata": {},
   "outputs": [],
   "source": [
    "paths = []\n",
    "songs = []\n",
    "#append every filepath in the blues folder to paths[]\n",
    "for r, d, f in os.walk(\"./data_midi\"):\n",
    "    for file in f:\n",
    "        if '.mid' in file:\n",
    "            paths.append(os.path.join(r, file))\n",
    "\n",
    "#for each path in the array, create a Mido object and append it to song[]\n",
    "for path in paths:\n",
    "    mid = MidiFile(path, type = 1)\n",
    "    songs.append(mid)\n",
    "del paths"
   ]
  },
  {
   "cell_type": "code",
   "execution_count": 4,
   "metadata": {
    "scrolled": true
   },
   "outputs": [
    {
     "data": {
      "text/plain": [
       "400"
      ]
     },
     "execution_count": 4,
     "metadata": {},
     "output_type": "execute_result"
    }
   ],
   "source": [
    "len(songs)"
   ]
  },
  {
   "cell_type": "code",
   "execution_count": 6,
   "metadata": {},
   "outputs": [],
   "source": [
    "notes = []\n",
    "dataset = []\n",
    "chunk = []\n",
    "\n",
    "# for each in midi object in list of songs\n",
    "for i in range(len(songs)):\n",
    "    # for each note in midi object\n",
    "    for msg in songs[i]:\n",
    "        # filtering out meta messages\n",
    "        if not msg.is_meta:\n",
    "            # filtering out control changes\n",
    "            if (msg.type == 'note_on'):\n",
    "                # normalizing note and velocity values\n",
    "                notes.append(msg.note)\n",
    "    for i in range(1, len(notes)):\n",
    "        chunk.append(notes[i])\n",
    "    dataset.append(chunk)\n",
    "    chunk = []\n",
    "    notes = []\n",
    "    \n",
    "del chunk\n",
    "del notes"
   ]
  },
  {
   "cell_type": "code",
   "execution_count": 7,
   "metadata": {
    "scrolled": true
   },
   "outputs": [
    {
     "data": {
      "text/plain": [
       "(400,)"
      ]
     },
     "execution_count": 7,
     "metadata": {},
     "output_type": "execute_result"
    }
   ],
   "source": [
    "np.array(dataset).shape"
   ]
  },
  {
   "cell_type": "code",
   "execution_count": 8,
   "metadata": {},
   "outputs": [],
   "source": [
    "notes = []\n",
    "dataset = []\n",
    "chunk = []\n",
    "SEQ_LEN=256\n",
    "\n",
    "#for each in midi object in list of songs\n",
    "for i in range(len(songs)):\n",
    "    #for each note in midi object\n",
    "    for msg in songs[i]:\n",
    "        #filtering out meta messages\n",
    "        if not msg.is_meta:\n",
    "            #filtering out control changes\n",
    "            if (msg.type == 'note_on'):\n",
    "                #normalizing note and velocity values\n",
    "                notes.append(msg.note)\n",
    "    for i in range(1, len(notes)):\n",
    "        chunk.append(notes[i])\n",
    "        #save each 16 note chunk\n",
    "        if (i % SEQ_LEN == 0):\n",
    "            dataset.append(chunk)\n",
    "            chunk = []\n",
    "    chunk = []\n",
    "    notes = []\n",
    "del chunk\n",
    "del notes"
   ]
  },
  {
   "cell_type": "code",
   "execution_count": 9,
   "metadata": {},
   "outputs": [
    {
     "data": {
      "text/plain": [
       "(17165, 256)"
      ]
     },
     "execution_count": 9,
     "metadata": {},
     "output_type": "execute_result"
    }
   ],
   "source": [
    "train_data = np.array(dataset)\n",
    "train_data.shape"
   ]
  },
  {
   "cell_type": "code",
   "execution_count": 10,
   "metadata": {},
   "outputs": [],
   "source": [
    "# Rescale 0 to 1\n",
    "train_data = train_data / 128"
   ]
  },
  {
   "cell_type": "code",
   "execution_count": 11,
   "metadata": {},
   "outputs": [],
   "source": [
    "import tensorflow as tf\n",
    "from tensorflow.keras.models import Sequential\n",
    "from tensorflow.keras.layers import *\n",
    "from sklearn.model_selection import train_test_split\n",
    "from tensorflow.keras.optimizers import Adam\n",
    "from tensorflow.keras.models import Sequential, Model"
   ]
  },
  {
   "cell_type": "code",
   "execution_count": 12,
   "metadata": {},
   "outputs": [
    {
     "data": {
      "text/plain": [
       "(17165, 256, 1)"
      ]
     },
     "execution_count": 12,
     "metadata": {},
     "output_type": "execute_result"
    }
   ],
   "source": [
    "train_data = train_data.reshape(len(dataset),SEQ_LEN,1)\n",
    "train_data.shape"
   ]
  },
  {
   "cell_type": "code",
   "execution_count": 42,
   "metadata": {},
   "outputs": [],
   "source": [
    "# train_data[2]"
   ]
  },
  {
   "cell_type": "code",
   "execution_count": 17,
   "metadata": {},
   "outputs": [],
   "source": [
    "#  def build_generator():\n",
    "\n",
    "#         model = Sequential([\n",
    "#         Bidirectional(LSTM(128, return_sequences=True), input_shape=(4, 4)),\n",
    "#         LeakyReLU(alpha=0.2),\n",
    "#         Bidirectional(LSTM(128, return_sequences=True)),\n",
    "#         LeakyReLU(alpha=0.2),\n",
    "#         Bidirectional(LSTM(128)),\n",
    "#         LeakyReLU(alpha=0.2),\n",
    "#         # specifying output to have 40 timesteps\n",
    "#         RepeatVector(16),\n",
    "#         # specifying 1 feature as the output\n",
    "#         Bidirectional(LSTM(128, return_sequences=True, dropout = 0.2)),\n",
    "#         LeakyReLU(alpha=0.2),\n",
    "#         Bidirectional(LSTM(128, return_sequences=True, dropout = 0.2)),\n",
    "#         LeakyReLU(alpha=0.2),\n",
    "#         Bidirectional(LSTM(128, return_sequences=True, dropout = 0.2)),\n",
    "#         LeakyReLU(alpha=0.2),\n",
    "#         Dropout(0.3),\n",
    "#         TimeDistributed(Dense(128)),\n",
    "#         LeakyReLU(alpha=0.2),\n",
    "#         Dropout(0.4),\n",
    "#         TimeDistributed(Dense(128)),\n",
    "#         LeakyReLU(alpha=0.2),\n",
    "#         Dropout(0.4),\n",
    "#         TimeDistributed(Dense(1)),\n",
    "#         # back to 0 ~ 1\n",
    "#         Activation(\"sigmoid\"),\n",
    "#         ])\n",
    "#         model.summary()\n",
    "#         noise = Input(shape=(4,4))\n",
    "#         img = model(noise)\n",
    "#         return Model(noise, img)\n"
   ]
  },
  {
   "cell_type": "code",
   "execution_count": 13,
   "metadata": {},
   "outputs": [],
   "source": [
    "from tensorflow.keras.layers import Conv1D,Multiply,Add,Conv1DTranspose\n",
    "\n",
    "def dilated_causal_Conv1D(dilation_r,activation_fn,dilated_num=0,num_stack=0):\n",
    "    return Conv1D(filters=NUM_FILT,\n",
    "    kernel_size=2,\n",
    "    strides=1,\n",
    "    padding=\"causal\", #valid\n",
    "    dilation_rate=dilation_r,\n",
    "    activation=activation_fn,\n",
    "    use_bias=True,\n",
    "    name='%s_stack%d_dilated%d_causal_conv_layer'%(activation_fn,num_stack,dilated_num))\n",
    "\n",
    "def Conv1D_11(filter_n):\n",
    "    return Conv1D(filters=filter_n,\n",
    "                 kernel_size=1,\n",
    "                 padding='same',\n",
    "                 use_bias=True,\n",
    "                 kernel_regularizer=None)\n",
    "def residualBlock(x,dilated_num,num_stack):\n",
    "    #dilated_causal_Conv1D\n",
    "    tanh_out=dilated_causal_Conv1D(2**dilated_num,'tanh',dilated_num,num_stack)(x)\n",
    "    sig_out=dilated_causal_Conv1D(2**dilated_num,'sigmoid',dilated_num,num_stack)(x)\n",
    "    #gate\n",
    "    gate_out=Multiply()([tanh_out,sig_out])\n",
    "    #1*1 conv\n",
    "    res_x=Conv1D_11(NUM_FILT)(gate_out)\n",
    "    #skip connection\n",
    "    skip_x=res_x\n",
    "    #residual\n",
    "    res_x=Add()([x,res_x])\n",
    "    return skip_x,res_x\n",
    "from tensorflow.keras.layers import Add,Activation,Input,Flatten,Dense,MaxPool1D,AveragePooling1D,Reshape\n",
    "from tensorflow.keras.models import Model\n",
    "\n",
    "def build_model(in_shape):\n",
    "    input_x=Input(shape=(in_shape,1,),name='input_layer')\n",
    "    \n",
    "    #label_x=Input(shape=(NUM_CLASS,),name='global_condition')\n",
    "    \n",
    "    #first causal convolution(dilation=1) before into residual blocks\n",
    "    x=input_x\n",
    "    _=dilated_causal_Conv1D(1,None,-1,-1)(x)\n",
    "    \n",
    "    #residual blocks\n",
    "    skip_connection=[]\n",
    "    res_x=_\n",
    "    for j in range(NUM_STACKS):\n",
    "        for i in range(DILAT_DEPTH+1): #dilation to 512\n",
    "            skip_x,res_x=residualBlock(res_x,i,j)\n",
    "            #store skip connection for postprocessing\n",
    "            skip_connection.append(skip_x)\n",
    "            \n",
    "    #post processing\n",
    "    #post processing\n",
    "    out=Add()(skip_connection)\n",
    "    out=Activation('relu')(out)\n",
    "    out=Conv1D_11(VAL_DIM*32)(out)\n",
    "#     out=Conv1DTranspose(1,1,strides=2)(out)\n",
    "    out=Activation('relu')(out)\n",
    "    out=Conv1D_11(VAL_DIM*8)(out)\n",
    "    out=Activation('relu')(out)\n",
    "    out=Conv1D_11(VAL_DIM)(out)\n",
    "#     out=Conv1DTranspose(1,1,strides=2)(out)\n",
    "    out=Activation('sigmoid')(out) \n",
    "#     out=Add()(skip_connection)\n",
    "#     out=Activation('relu')(out)\n",
    "#     out=Conv1D(NUM_FILT, 80, strides=1, padding='same', name='conv_5ms')(out)#, activation='relu')(out)\n",
    "# #     out = AveragePooling1D(80, padding='same', name='downsample_to_1110Hz')(out)\n",
    "    \n",
    "    \n",
    "    #paper\n",
    "#     out = Conv1D(NUM_FILT, 100, padding='same', activation='relu', name='conv_500ms')(out)\n",
    "#     out = Conv1D(NUM_CLASS, 100, padding='same', activation='relu', name='conv_500ms_target_shape')(out)\n",
    "#     out = AveragePooling1D(100, padding='same', name='downsample_to_2Hz')(out)\n",
    "#     out = Conv1D(NUM_CLASS, (int)(IN_LENGTH*freq/ 8000), padding='same', name='final_conv')(out)\n",
    "#     out = AveragePooling1D((int)(IN_LENGTH*freq / 8000), name='final_pooling')(out)\n",
    "#     out = Reshape((NUM_CLASS,))(out)\n",
    "#     out = Activation('softmax')(out)\n",
    "\n",
    "    model=Model(inputs=input_x,outputs=out)\n",
    "    \n",
    "    return model"
   ]
  },
  {
   "cell_type": "code",
   "execution_count": 14,
   "metadata": {},
   "outputs": [
    {
     "name": "stdout",
     "output_type": "stream",
     "text": [
      "receptive field: 32\n",
      "Model: \"functional_1\"\n",
      "__________________________________________________________________________________________________\n",
      "Layer (type)                    Output Shape         Param #     Connected to                     \n",
      "==================================================================================================\n",
      "input_layer (InputLayer)        [(None, 256, 1)]     0                                            \n",
      "__________________________________________________________________________________________________\n",
      "None_stack-1_dilated-1_causal_c (None, 256, 64)      192         input_layer[0][0]                \n",
      "__________________________________________________________________________________________________\n",
      "tanh_stack0_dilated0_causal_con (None, 256, 64)      8256        None_stack-1_dilated-1_causal_con\n",
      "__________________________________________________________________________________________________\n",
      "sigmoid_stack0_dilated0_causal_ (None, 256, 64)      8256        None_stack-1_dilated-1_causal_con\n",
      "__________________________________________________________________________________________________\n",
      "multiply (Multiply)             (None, 256, 64)      0           tanh_stack0_dilated0_causal_conv_\n",
      "                                                                 sigmoid_stack0_dilated0_causal_co\n",
      "__________________________________________________________________________________________________\n",
      "conv1d (Conv1D)                 (None, 256, 64)      4160        multiply[0][0]                   \n",
      "__________________________________________________________________________________________________\n",
      "add (Add)                       (None, 256, 64)      0           None_stack-1_dilated-1_causal_con\n",
      "                                                                 conv1d[0][0]                     \n",
      "__________________________________________________________________________________________________\n",
      "tanh_stack0_dilated1_causal_con (None, 256, 64)      8256        add[0][0]                        \n",
      "__________________________________________________________________________________________________\n",
      "sigmoid_stack0_dilated1_causal_ (None, 256, 64)      8256        add[0][0]                        \n",
      "__________________________________________________________________________________________________\n",
      "multiply_1 (Multiply)           (None, 256, 64)      0           tanh_stack0_dilated1_causal_conv_\n",
      "                                                                 sigmoid_stack0_dilated1_causal_co\n",
      "__________________________________________________________________________________________________\n",
      "conv1d_1 (Conv1D)               (None, 256, 64)      4160        multiply_1[0][0]                 \n",
      "__________________________________________________________________________________________________\n",
      "add_1 (Add)                     (None, 256, 64)      0           add[0][0]                        \n",
      "                                                                 conv1d_1[0][0]                   \n",
      "__________________________________________________________________________________________________\n",
      "tanh_stack0_dilated2_causal_con (None, 256, 64)      8256        add_1[0][0]                      \n",
      "__________________________________________________________________________________________________\n",
      "sigmoid_stack0_dilated2_causal_ (None, 256, 64)      8256        add_1[0][0]                      \n",
      "__________________________________________________________________________________________________\n",
      "multiply_2 (Multiply)           (None, 256, 64)      0           tanh_stack0_dilated2_causal_conv_\n",
      "                                                                 sigmoid_stack0_dilated2_causal_co\n",
      "__________________________________________________________________________________________________\n",
      "conv1d_2 (Conv1D)               (None, 256, 64)      4160        multiply_2[0][0]                 \n",
      "__________________________________________________________________________________________________\n",
      "add_2 (Add)                     (None, 256, 64)      0           add_1[0][0]                      \n",
      "                                                                 conv1d_2[0][0]                   \n",
      "__________________________________________________________________________________________________\n",
      "tanh_stack0_dilated3_causal_con (None, 256, 64)      8256        add_2[0][0]                      \n",
      "__________________________________________________________________________________________________\n",
      "sigmoid_stack0_dilated3_causal_ (None, 256, 64)      8256        add_2[0][0]                      \n",
      "__________________________________________________________________________________________________\n",
      "multiply_3 (Multiply)           (None, 256, 64)      0           tanh_stack0_dilated3_causal_conv_\n",
      "                                                                 sigmoid_stack0_dilated3_causal_co\n",
      "__________________________________________________________________________________________________\n",
      "conv1d_3 (Conv1D)               (None, 256, 64)      4160        multiply_3[0][0]                 \n",
      "__________________________________________________________________________________________________\n",
      "add_3 (Add)                     (None, 256, 64)      0           add_2[0][0]                      \n",
      "                                                                 conv1d_3[0][0]                   \n",
      "__________________________________________________________________________________________________\n",
      "tanh_stack0_dilated4_causal_con (None, 256, 64)      8256        add_3[0][0]                      \n",
      "__________________________________________________________________________________________________\n",
      "sigmoid_stack0_dilated4_causal_ (None, 256, 64)      8256        add_3[0][0]                      \n",
      "__________________________________________________________________________________________________\n",
      "multiply_4 (Multiply)           (None, 256, 64)      0           tanh_stack0_dilated4_causal_conv_\n",
      "                                                                 sigmoid_stack0_dilated4_causal_co\n",
      "__________________________________________________________________________________________________\n",
      "conv1d_4 (Conv1D)               (None, 256, 64)      4160        multiply_4[0][0]                 \n",
      "__________________________________________________________________________________________________\n",
      "add_5 (Add)                     (None, 256, 64)      0           conv1d[0][0]                     \n",
      "                                                                 conv1d_1[0][0]                   \n",
      "                                                                 conv1d_2[0][0]                   \n",
      "                                                                 conv1d_3[0][0]                   \n",
      "                                                                 conv1d_4[0][0]                   \n",
      "__________________________________________________________________________________________________\n",
      "activation (Activation)         (None, 256, 64)      0           add_5[0][0]                      \n",
      "__________________________________________________________________________________________________\n",
      "conv1d_5 (Conv1D)               (None, 256, 32)      2080        activation[0][0]                 \n",
      "__________________________________________________________________________________________________\n",
      "activation_1 (Activation)       (None, 256, 32)      0           conv1d_5[0][0]                   \n",
      "__________________________________________________________________________________________________\n",
      "conv1d_6 (Conv1D)               (None, 256, 8)       264         activation_1[0][0]               \n",
      "__________________________________________________________________________________________________\n",
      "activation_2 (Activation)       (None, 256, 8)       0           conv1d_6[0][0]                   \n",
      "__________________________________________________________________________________________________\n",
      "conv1d_7 (Conv1D)               (None, 256, 1)       9           activation_2[0][0]               \n",
      "__________________________________________________________________________________________________\n",
      "activation_3 (Activation)       (None, 256, 1)       0           conv1d_7[0][0]                   \n",
      "==================================================================================================\n",
      "Total params: 105,905\n",
      "Trainable params: 105,905\n",
      "Non-trainable params: 0\n",
      "__________________________________________________________________________________________________\n"
     ]
    }
   ],
   "source": [
    "DILAT_DEPTH=4 #14 #13\n",
    "NUM_STACKS=1 #2\n",
    "RECEPTIVE_FIELD=NUM_STACKS*2**(DILAT_DEPTH)*2\n",
    "# SEQ_LEN=30*22050 #GTZAN seconds*HZ\n",
    "VAL_DIM=1 #256\n",
    "NUM_FILT=64\n",
    "print('receptive field:',RECEPTIVE_FIELD)\n",
    "model=build_model(SEQ_LEN)\n",
    "model.summary()"
   ]
  },
  {
   "cell_type": "code",
   "execution_count": 15,
   "metadata": {},
   "outputs": [],
   "source": [
    "generator=build_model(SEQ_LEN)"
   ]
  },
  {
   "cell_type": "code",
   "execution_count": 16,
   "metadata": {},
   "outputs": [],
   "source": [
    "def build_discriminator():\n",
    "    model=Sequential([\n",
    "        Conv1D(32,(3),strides=(2),input_shape=(SEQ_LEN,1,)),\n",
    "        LeakyReLU(),\n",
    "        Conv1D(64, (3), strides=(2), padding='same',use_bias=False),\n",
    "        BatchNormalization(),\n",
    "        LeakyReLU(),\n",
    "#         Conv1D(128, (3), strides=(2), padding='same',use_bias=False),\n",
    "#         BatchNormalization(),\n",
    "#         LeakyReLU(),\n",
    "        Conv1D(64, (3), strides=(2), padding='same',use_bias=False),\n",
    "        BatchNormalization(),\n",
    "        LeakyReLU(),\n",
    "        Flatten(),\n",
    "        Dense(1)\n",
    "    ])\n",
    "    model.summary()\n",
    "    return model"
   ]
  },
  {
   "cell_type": "code",
   "execution_count": 17,
   "metadata": {},
   "outputs": [],
   "source": [
    "#  def build_discriminator():\n",
    "\n",
    "#         model = Sequential([\n",
    "    \n",
    "#                 Bidirectional(LSTM(128, return_sequences=True), input_shape=(SEQ_LEN,1)),#16, 1)),\n",
    "#                 Activation(\"relu\"),\n",
    "#                 LeakyReLU(alpha=0.2),\n",
    "#                 Bidirectional(LSTM(128)),\n",
    "#                 Activation(\"relu\"),\n",
    "#                 LeakyReLU(alpha=0.2),\n",
    "#                 Dropout(0.4),\n",
    "#                 RepeatVector(1),\n",
    "#                 TimeDistributed(Dense(128, activation = 'sigmoid')),\n",
    "#                 LeakyReLU(alpha=0.2),\n",
    "#                 Dropout(0.4),\n",
    "#                 TimeDistributed(Dense(128, activation = 'relu')),\n",
    "#                 LeakyReLU(alpha=0.2),\n",
    "#                 Dropout(0.4),\n",
    "#                 TimeDistributed(Dense(1, activation = 'linear'))\n",
    "#         ])\n",
    "            \n",
    "#         model.summary()\n",
    "\n",
    "#         img = Input(shape=(SEQ_LEN,1))\n",
    "#         validity = model(img)\n",
    "\n",
    "#         return Model(img, validity)\n",
    "    "
   ]
  },
  {
   "cell_type": "code",
   "execution_count": 37,
   "metadata": {},
   "outputs": [],
   "source": [
    "# generator_optimizer = tf.keras.optimizers.Adam(1e-4)\n",
    "# generator = build_generator()"
   ]
  },
  {
   "cell_type": "code",
   "execution_count": 18,
   "metadata": {},
   "outputs": [
    {
     "name": "stdout",
     "output_type": "stream",
     "text": [
      "Model: \"sequential\"\n",
      "_________________________________________________________________\n",
      "Layer (type)                 Output Shape              Param #   \n",
      "=================================================================\n",
      "conv1d_16 (Conv1D)           (None, 127, 32)           128       \n",
      "_________________________________________________________________\n",
      "leaky_re_lu (LeakyReLU)      (None, 127, 32)           0         \n",
      "_________________________________________________________________\n",
      "conv1d_17 (Conv1D)           (None, 64, 64)            6144      \n",
      "_________________________________________________________________\n",
      "batch_normalization (BatchNo (None, 64, 64)            256       \n",
      "_________________________________________________________________\n",
      "leaky_re_lu_1 (LeakyReLU)    (None, 64, 64)            0         \n",
      "_________________________________________________________________\n",
      "conv1d_18 (Conv1D)           (None, 32, 64)            12288     \n",
      "_________________________________________________________________\n",
      "batch_normalization_1 (Batch (None, 32, 64)            256       \n",
      "_________________________________________________________________\n",
      "leaky_re_lu_2 (LeakyReLU)    (None, 32, 64)            0         \n",
      "_________________________________________________________________\n",
      "flatten (Flatten)            (None, 2048)              0         \n",
      "_________________________________________________________________\n",
      "dense (Dense)                (None, 1)                 2049      \n",
      "=================================================================\n",
      "Total params: 21,121\n",
      "Trainable params: 20,865\n",
      "Non-trainable params: 256\n",
      "_________________________________________________________________\n"
     ]
    }
   ],
   "source": [
    "# Build and compile the discriminator\n",
    "discriminator_optimizer = tf.keras.optimizers.Adam(1e-4)\n",
    "discriminator = build_discriminator()"
   ]
  },
  {
   "cell_type": "code",
   "execution_count": 19,
   "metadata": {},
   "outputs": [],
   "source": [
    "cross_entropy = tf.keras.losses.BinaryCrossentropy(from_logits=True)\n",
    "def generator_loss(fake_output):\n",
    "    return cross_entropy(tf.ones_like(fake_output), fake_output)\n",
    "def discriminator_loss(real_output, fake_output):\n",
    "    real_loss = cross_entropy(tf.ones_like(real_output), real_output)\n",
    "    fake_loss = cross_entropy(tf.zeros_like(fake_output), fake_output)\n",
    "    total_loss = real_loss + fake_loss\n",
    "    return total_loss"
   ]
  },
  {
   "cell_type": "code",
   "execution_count": 20,
   "metadata": {},
   "outputs": [],
   "source": [
    "generator_optimizer = tf.keras.optimizers.Adam(1e-4)\n",
    "discriminator_optimizer = tf.keras.optimizers.Adam(1e-4)"
   ]
  },
  {
   "cell_type": "code",
   "execution_count": 21,
   "metadata": {},
   "outputs": [],
   "source": [
    "@tf.function\n",
    "def train_step(music):\n",
    "    noise = tf.random.normal([Batch,SEQ_LEN,1])\n",
    "    with tf.GradientTape() as gen_tape, tf.GradientTape() as disc_tape:\n",
    "         \n",
    "        generated_music = generator(noise, training=True)\n",
    "        real_output = discriminator(music, training=True)\n",
    "        fake_output = discriminator(generated_music, training=True)\n",
    "  \n",
    "        gen_loss = generator_loss(fake_output)\n",
    "        disc_loss = discriminator_loss(real_output, fake_output)\n",
    "        \n",
    "    gradients_of_generator = gen_tape.gradient(gen_loss, generator.trainable_variables)\n",
    "    gradients_of_discriminator = disc_tape.gradient(disc_loss, discriminator.trainable_variables)\n",
    "    generator_optimizer.apply_gradients(zip(gradients_of_generator, generator.trainable_variables))\n",
    "    discriminator_optimizer.apply_gradients(zip(gradients_of_discriminator, discriminator.trainable_variables))\n",
    "    return gen_loss,disc_loss"
   ]
  },
  {
   "cell_type": "code",
   "execution_count": 22,
   "metadata": {},
   "outputs": [],
   "source": [
    "gloss_list=[]\n",
    "dloss_list=[]\n",
    "def train(dataset, epochs):\n",
    "    for epoch in range(epochs):\n",
    "        start = time.time()\n",
    "        G_loss = 0\n",
    "        D_loss = 0\n",
    "#         print('len(dataset)',len(dataset))\n",
    "        for i,image_batch in enumerate(dataset):\n",
    "            gen_loss,disc_loss = train_step(image_batch)\n",
    "            print(f\"Step：{i} | G_loss：{gen_loss} D_loss：{disc_loss}|\")\n",
    "            G_loss += gen_loss\n",
    "            D_loss += disc_loss\n",
    "        clear_output(wait=True)\n",
    "        print (f'Time for epoch {epoch + 1} is {time.time()-start} sec\\n')\n",
    "        print(f'G_AVE_Loss：{G_loss/len(dataset)}')\n",
    "        print(f'D_AVE_loss：{D_loss/len(dataset)}')\n",
    "        gloss_list.append(G_loss/len(dataset))\n",
    "        dloss_list.append(D_loss/len(dataset))\n",
    "        if epoch % 100 == 0:\n",
    "            generator.save(\"generator.h5\")\n",
    "    np.save('0612_wavenet_gen_gloss.npy', np.array(gloss_list))\n",
    "    np.save('0612_wavenet_dis_dloss.npy',np.array(dloss_list))"
   ]
  },
  {
   "cell_type": "code",
   "execution_count": 24,
   "metadata": {},
   "outputs": [],
   "source": [
    "Batch = 32#128\n",
    "train_dataset = tf.data.Dataset.from_tensor_slices(train_data).batch(Batch,drop_remainder=True)"
   ]
  },
  {
   "cell_type": "code",
   "execution_count": 25,
   "metadata": {},
   "outputs": [
    {
     "data": {
      "text/plain": [
       "<BatchDataset shapes: (32, 256, 1), types: tf.float64>"
      ]
     },
     "execution_count": 25,
     "metadata": {},
     "output_type": "execute_result"
    }
   ],
   "source": [
    "train_dataset"
   ]
  },
  {
   "cell_type": "code",
   "execution_count": 58,
   "metadata": {},
   "outputs": [
    {
     "name": "stdout",
     "output_type": "stream",
     "text": [
      "Time for epoch 100 is 7.07942008972168 sec\n",
      "\n",
      "G_AVE_Loss：1.1319727897644043\n",
      "D_AVE_loss：1.0222206115722656\n"
     ]
    }
   ],
   "source": [
    "with tf.device('/device:GPU:2'):\n",
    "    train(train_dataset,100)"
   ]
  },
  {
   "cell_type": "code",
   "execution_count": 59,
   "metadata": {},
   "outputs": [],
   "source": [
    "#31s,8.6s...etc"
   ]
  },
  {
   "cell_type": "markdown",
   "metadata": {},
   "source": [
    "# Plot"
   ]
  },
  {
   "cell_type": "code",
   "execution_count": 28,
   "metadata": {
    "scrolled": true
   },
   "outputs": [
    {
     "data": {
      "image/png": "[encoded data removed]",
      "text/plain": [
       "<Figure size 432x288 with 1 Axes>"
      ]
     },
     "metadata": {
      "needs_background": "light"
     },
     "output_type": "display_data"
    }
   ],
   "source": [
    "#epoch100\n",
    "import matplotlib.pyplot as plt\n",
    "import numpy as np\n",
    "g=np.load('0612_wavenet_gen_gloss.npy')\n",
    "# month = [i for i in range(len(g))]\n",
    "plt.plot(g,'s-',color = 'r', label=\"generator loss\")\n",
    "d=np.load('0612_wavenet_dis_dloss.npy')\n",
    "plt.plot(d,'s-',color = 'b', label=\"discriminator loss\")\n",
    "plt.legend(loc = \"best\", fontsize=10)\n",
    "plt.show()"
   ]
  },
  {
   "cell_type": "code",
   "execution_count": 122,
   "metadata": {},
   "outputs": [
    {
     "data": {
      "image/png": "[encoded data removed]",
      "text/plain": [
       "<Figure size 432x288 with 1 Axes>"
      ]
     },
     "metadata": {
      "needs_background": "light"
     },
     "output_type": "display_data"
    }
   ],
   "source": [
    "#epoch200\n",
    "import matplotlib.pyplot as plt\n",
    "import numpy as np\n",
    "g=np.load('0612_wavenet_gen_gloss.npy')\n",
    "month = [i for i in range(len(g))]\n",
    "plt.plot(g,'s-',color = 'r', label=\"generator loss\")\n",
    "d=np.load('0612_wavenet_dis_dloss.npy')\n",
    "plt.plot(d,'s-',color = 'b', label=\"discriminator loss\")\n",
    "plt.legend(loc = \"best\", fontsize=10)\n",
    "plt.show()"
   ]
  },
  {
   "cell_type": "code",
   "execution_count": 127,
   "metadata": {},
   "outputs": [
    {
     "data": {
      "image/png": "[encoded data removed]",
      "text/plain": [
       "<Figure size 432x288 with 1 Axes>"
      ]
     },
     "metadata": {
      "needs_background": "light"
     },
     "output_type": "display_data"
    }
   ],
   "source": [
    "#epoch300\n",
    "import matplotlib.pyplot as plt\n",
    "import numpy as np\n",
    "g=np.load('0612_wavenet_gen_gloss.npy')\n",
    "month = [i for i in range(len(g))]\n",
    "plt.plot(g,'s-',color = 'r', label=\"generator loss\")\n",
    "d=np.load('0612_wavenet_dis_dloss.npy')\n",
    "plt.plot(d,'s-',color = 'b', label=\"discriminator loss\")\n",
    "plt.legend(loc = \"best\", fontsize=10)\n",
    "plt.show()"
   ]
  },
  {
   "cell_type": "markdown",
   "metadata": {},
   "source": [
    "# Output"
   ]
  },
  {
   "cell_type": "code",
   "execution_count": 55,
   "metadata": {},
   "outputs": [],
   "source": [
    "random = np.random.normal(0,1,(1,SEQ_LEN,1))\n",
    "with tf.device('/device:GPU:2'):\n",
    "    predict = generator.predict(random)\n",
    "predict = predict*128"
   ]
  },
  {
   "cell_type": "code",
   "execution_count": 56,
   "metadata": {},
   "outputs": [
    {
     "data": {
      "text/plain": [
       "array([[[52.188732],\n",
       "        [56.32511 ],\n",
       "        [56.280106],\n",
       "        [76.55041 ],\n",
       "        [61.409657],\n",
       "        [74.56762 ],\n",
       "        [58.61628 ],\n",
       "        [58.4349  ],\n",
       "        [70.593864],\n",
       "        [74.00828 ],\n",
       "        [59.273773],\n",
       "        [75.76487 ],\n",
       "        [63.642647],\n",
       "        [60.56993 ],\n",
       "        [59.594517],\n",
       "        [77.44644 ],\n",
       "        [61.219376],\n",
       "        [71.113815],\n",
       "        [55.086315],\n",
       "        [65.8428  ],\n",
       "        [77.99266 ],\n",
       "        [56.427612],\n",
       "        [49.50969 ],\n",
       "        [76.96218 ],\n",
       "        [78.20231 ],\n",
       "        [52.684017],\n",
       "        [77.20884 ],\n",
       "        [75.53047 ],\n",
       "        [55.096725],\n",
       "        [78.42056 ],\n",
       "        [78.92731 ],\n",
       "        [74.834526],\n",
       "        [79.2553  ],\n",
       "        [78.57518 ],\n",
       "        [55.50969 ],\n",
       "        [56.952038],\n",
       "        [72.75229 ],\n",
       "        [80.58212 ],\n",
       "        [76.744354],\n",
       "        [66.12913 ],\n",
       "        [79.38108 ],\n",
       "        [75.62054 ],\n",
       "        [76.75917 ],\n",
       "        [81.215546],\n",
       "        [75.12194 ],\n",
       "        [76.47251 ],\n",
       "        [74.31479 ],\n",
       "        [64.96033 ],\n",
       "        [63.460938],\n",
       "        [66.552765],\n",
       "        [75.60479 ],\n",
       "        [64.57987 ],\n",
       "        [77.658485],\n",
       "        [64.87801 ],\n",
       "        [71.6087  ],\n",
       "        [76.763504],\n",
       "        [76.61816 ],\n",
       "        [68.55072 ],\n",
       "        [74.27402 ],\n",
       "        [70.039215],\n",
       "        [66.82016 ],\n",
       "        [69.56018 ],\n",
       "        [70.43194 ],\n",
       "        [68.61379 ],\n",
       "        [68.8215  ],\n",
       "        [69.45095 ],\n",
       "        [66.69788 ],\n",
       "        [63.212128],\n",
       "        [69.0781  ],\n",
       "        [49.13007 ],\n",
       "        [63.101997],\n",
       "        [68.583855],\n",
       "        [66.39648 ],\n",
       "        [52.370956],\n",
       "        [56.17062 ],\n",
       "        [70.00492 ],\n",
       "        [61.74082 ],\n",
       "        [63.72405 ],\n",
       "        [61.54101 ],\n",
       "        [54.339375],\n",
       "        [51.37108 ],\n",
       "        [58.56816 ],\n",
       "        [68.16367 ],\n",
       "        [59.95922 ],\n",
       "        [63.18992 ],\n",
       "        [52.968365],\n",
       "        [68.94639 ],\n",
       "        [64.830055],\n",
       "        [57.164352],\n",
       "        [69.1428  ],\n",
       "        [55.864887],\n",
       "        [63.490643],\n",
       "        [54.093735],\n",
       "        [75.98926 ],\n",
       "        [60.846096],\n",
       "        [61.26827 ],\n",
       "        [78.918625],\n",
       "        [58.46928 ],\n",
       "        [74.39632 ],\n",
       "        [63.90449 ],\n",
       "        [71.275314],\n",
       "        [73.21848 ],\n",
       "        [60.807945],\n",
       "        [74.61042 ],\n",
       "        [52.147747],\n",
       "        [59.309036],\n",
       "        [54.460876],\n",
       "        [77.33169 ],\n",
       "        [70.20132 ],\n",
       "        [77.180176],\n",
       "        [68.64759 ],\n",
       "        [75.684074],\n",
       "        [57.559677],\n",
       "        [77.37629 ],\n",
       "        [77.65623 ],\n",
       "        [76.680336],\n",
       "        [77.10039 ],\n",
       "        [75.6872  ],\n",
       "        [59.044083],\n",
       "        [55.23594 ],\n",
       "        [58.20072 ],\n",
       "        [52.053776],\n",
       "        [72.19663 ],\n",
       "        [54.860363],\n",
       "        [74.54279 ],\n",
       "        [74.17727 ],\n",
       "        [76.391846],\n",
       "        [57.76485 ],\n",
       "        [75.01229 ],\n",
       "        [45.989117],\n",
       "        [70.29822 ],\n",
       "        [68.88449 ],\n",
       "        [71.93814 ],\n",
       "        [76.45244 ],\n",
       "        [70.53745 ],\n",
       "        [49.91516 ],\n",
       "        [47.18097 ],\n",
       "        [70.932106],\n",
       "        [70.97688 ],\n",
       "        [50.331547],\n",
       "        [60.196568],\n",
       "        [47.03349 ],\n",
       "        [70.301025],\n",
       "        [68.21528 ],\n",
       "        [72.13391 ],\n",
       "        [74.65664 ],\n",
       "        [75.88017 ],\n",
       "        [48.32942 ],\n",
       "        [73.19449 ],\n",
       "        [50.296577],\n",
       "        [54.005013],\n",
       "        [75.67185 ],\n",
       "        [69.53214 ],\n",
       "        [53.333187],\n",
       "        [74.46123 ],\n",
       "        [60.328743],\n",
       "        [75.2834  ],\n",
       "        [60.439175],\n",
       "        [77.338455],\n",
       "        [56.713146],\n",
       "        [74.264275],\n",
       "        [86.440506],\n",
       "        [54.694942],\n",
       "        [55.329937],\n",
       "        [52.976315],\n",
       "        [56.880775],\n",
       "        [49.25611 ],\n",
       "        [55.744522],\n",
       "        [82.950935],\n",
       "        [55.95736 ],\n",
       "        [86.579124],\n",
       "        [66.048355],\n",
       "        [89.554886],\n",
       "        [87.93297 ],\n",
       "        [55.105328],\n",
       "        [81.27197 ],\n",
       "        [87.30403 ],\n",
       "        [91.73372 ],\n",
       "        [58.28287 ],\n",
       "        [85.39046 ],\n",
       "        [93.50011 ],\n",
       "        [92.27542 ],\n",
       "        [89.67785 ],\n",
       "        [63.003273],\n",
       "        [60.604904],\n",
       "        [89.348076],\n",
       "        [59.14554 ],\n",
       "        [63.72337 ],\n",
       "        [88.79615 ],\n",
       "        [78.14195 ],\n",
       "        [91.56924 ],\n",
       "        [62.524853],\n",
       "        [62.76232 ],\n",
       "        [64.8788  ],\n",
       "        [62.226753],\n",
       "        [77.73009 ],\n",
       "        [77.049866],\n",
       "        [77.05701 ],\n",
       "        [81.318504],\n",
       "        [57.99731 ],\n",
       "        [65.143326],\n",
       "        [76.65775 ],\n",
       "        [78.90396 ],\n",
       "        [72.45559 ],\n",
       "        [54.96372 ],\n",
       "        [61.121563],\n",
       "        [75.72771 ],\n",
       "        [59.010303],\n",
       "        [76.07704 ],\n",
       "        [77.13274 ],\n",
       "        [62.272285],\n",
       "        [78.368935],\n",
       "        [60.77222 ],\n",
       "        [64.95538 ],\n",
       "        [59.07295 ],\n",
       "        [62.857555],\n",
       "        [76.64425 ],\n",
       "        [72.698746],\n",
       "        [59.757538],\n",
       "        [62.659508],\n",
       "        [59.877983],\n",
       "        [75.51435 ],\n",
       "        [64.643875],\n",
       "        [54.74725 ],\n",
       "        [73.83626 ],\n",
       "        [75.47723 ],\n",
       "        [73.974815],\n",
       "        [62.8165  ],\n",
       "        [61.066875],\n",
       "        [55.136192],\n",
       "        [59.607544],\n",
       "        [57.61675 ],\n",
       "        [58.622795],\n",
       "        [57.35174 ],\n",
       "        [75.82046 ],\n",
       "        [77.87886 ],\n",
       "        [58.275646],\n",
       "        [53.798573],\n",
       "        [79.06254 ],\n",
       "        [63.004986],\n",
       "        [53.674168],\n",
       "        [55.65016 ],\n",
       "        [70.36546 ],\n",
       "        [58.72021 ],\n",
       "        [55.91312 ],\n",
       "        [53.675434],\n",
       "        [66.880974],\n",
       "        [69.13545 ],\n",
       "        [68.0579  ],\n",
       "        [62.963326],\n",
       "        [52.2627  ],\n",
       "        [46.951126],\n",
       "        [67.81176 ],\n",
       "        [49.6754  ],\n",
       "        [68.98148 ],\n",
       "        [67.35531 ]]], dtype=float32)"
      ]
     },
     "execution_count": 56,
     "metadata": {},
     "output_type": "execute_result"
    }
   ],
   "source": [
    "predict"
   ]
  },
  {
   "cell_type": "code",
   "execution_count": null,
   "metadata": {},
   "outputs": [],
   "source": []
  },
  {
   "cell_type": "code",
   "execution_count": 104,
   "metadata": {},
   "outputs": [],
   "source": [
    "# midler = MidiFile()\n",
    "# track = MidiTrack()\n",
    "# track.append(Message('program_change', program=2, time=0))\n",
    "# for x in range(predict.shape[1]):\n",
    "#     print(int(predict[0][x][0]))\n",
    "#     track.append(Message('note_on', note=int(predict[0][x][0]), velocity=4, time=20))\n",
    "#     track.append(Message('note_off', note=int(predict[0][x][0]), velocity=4, time=20))\n",
    "#     midler.save('new_song.mid')"
   ]
  },
  {
   "cell_type": "code",
   "execution_count": 60,
   "metadata": {},
   "outputs": [],
   "source": [
    "midler = MidiFile()\n",
    "track = MidiTrack()\n",
    "midler.tracks.append(track)\n",
    "track.append(Message('program_change', program=2, time=0))\n",
    "for x in range(SEQ_LEN):\n",
    "    interval=np.random.randint(20,100,size=1)\n",
    "    note_int=np.random.randint(20,200,size=1)\n",
    "    change_int=np.random.randint(1,40,size=1)\n",
    "    control=np.random.randint(0,2,size=1)[0]\n",
    "    value=np.random.randint(30,80,size=1)[0]\n",
    "    if control>1:\n",
    "        control=64\n",
    "        value=np.random.randint(0,128,size=1)[0]\n",
    "    track.append(Message('note_on', channel=1,note=int(predict[0][x][0]), velocity=64, time=interval[0]))\n",
    "    if control==64:\n",
    "        track.append(Message('control_change',channel=1,control=control,value=value,time=change_int[0]))\n",
    "#         print(control,value)\n",
    "    track.append(Message('note_off', channel=1,note=int(predict[0][x][0]), velocity=64, time=note_int[0]))\n",
    "    midler.save('new_song_all.mid')"
   ]
  }
 ],
 "metadata": {
  "kernelspec": {
   "display_name": "Python 3",
   "language": "python",
   "name": "python3"
  },
  "language_info": {
   "codemirror_mode": {
    "name": "ipython",
    "version": 3
   },
   "file_extension": ".py",
   "mimetype": "text/x-python",
   "name": "python",
   "nbconvert_exporter": "python",
   "pygments_lexer": "ipython3",
   "version": "3.6.9"
  }
 },
 "nbformat": 4,
 "nbformat_minor": 4
}
