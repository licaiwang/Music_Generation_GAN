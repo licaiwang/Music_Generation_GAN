{
 "cells": [
  {
   "cell_type": "code",
   "execution_count": 1,
   "metadata": {},
   "outputs": [],
   "source": [
    "import mido # easy to use python MIDI library\n",
    "import numpy as np # linear algebra\n",
    "import os # accessing directory structure\n",
    "import time\n",
    "from mido import MidiFile, MidiTrack, Message\n",
    "from IPython.display import Audio, clear_output"
   ]
  },
  {
   "cell_type": "code",
   "execution_count": 2,
   "metadata": {},
   "outputs": [
    {
     "data": {
      "text/plain": [
       "['new_song.mid',\n",
       " '.ipynb_checkpoints',\n",
       " 'start.ipynb',\n",
       " 'generator.h5',\n",
       " 'generator_weight.h5',\n",
       " 'preprocess_data.npy',\n",
       " 'discriminator_weight.h5',\n",
       " 'blues']"
      ]
     },
     "execution_count": 2,
     "metadata": {},
     "output_type": "execute_result"
    }
   ],
   "source": [
    "os.listdir()"
   ]
  },
  {
   "cell_type": "code",
   "execution_count": 3,
   "metadata": {},
   "outputs": [
    {
     "data": {
      "text/plain": [
       "'\\npaths = []\\nsongs = []\\n#append every filepath in the blues folder to paths[]\\nfor r, d, f in os.walk(\"./blues\"):\\n    for file in f:\\n        if \\'.mid\\' in file:\\n            paths.append(os.path.join(r, file))\\n\\n#for each path in the array, create a Mido object and append it to song[]\\nfor path in paths:\\n    mid = MidiFile(path, type = 1)\\n    songs.append(mid)\\ndel paths\\n'"
      ]
     },
     "execution_count": 3,
     "metadata": {},
     "output_type": "execute_result"
    }
   ],
   "source": [
    "\"\"\"\n",
    "paths = []\n",
    "songs = []\n",
    "#append every filepath in the blues folder to paths[]\n",
    "for r, d, f in os.walk(\"./blues\"):\n",
    "    for file in f:\n",
    "        if '.mid' in file:\n",
    "            paths.append(os.path.join(r, file))\n",
    "\n",
    "#for each path in the array, create a Mido object and append it to song[]\n",
    "for path in paths:\n",
    "    mid = MidiFile(path, type = 1)\n",
    "    songs.append(mid)\n",
    "del paths\n",
    "\"\"\""
   ]
  },
  {
   "cell_type": "code",
   "execution_count": 4,
   "metadata": {
    "scrolled": true
   },
   "outputs": [],
   "source": [
    "#len(songs)"
   ]
  },
  {
   "cell_type": "code",
   "execution_count": 5,
   "metadata": {},
   "outputs": [
    {
     "data": {
      "text/plain": [
       "'\\nnotes = []\\ndataset = []\\nchunk = []\\n\\n# for each in midi object in list of songs\\nfor i in range(len(songs)):\\n    # for each note in midi object\\n    for msg in songs[i]:\\n        # filtering out meta messages\\n        if not msg.is_meta:\\n            # filtering out control changes\\n            if (msg.type == \\'note_on\\'):\\n                # normalizing note and velocity values\\n                notes.append(msg.note)\\n                \\n    for j in range(1, len(notes)):\\n        chunk.append(notes[j])\\n    print(f\"Processing {i} Song\")\\n    dataset.append(chunk)\\n    chunk = []\\n    notes = []\\n    \\ndel chunk\\ndel notes\\n'"
      ]
     },
     "execution_count": 5,
     "metadata": {},
     "output_type": "execute_result"
    }
   ],
   "source": [
    "\"\"\"\n",
    "notes = []\n",
    "dataset = []\n",
    "chunk = []\n",
    "\n",
    "# for each in midi object in list of songs\n",
    "for i in range(len(songs)):\n",
    "    # for each note in midi object\n",
    "    for msg in songs[i]:\n",
    "        # filtering out meta messages\n",
    "        if not msg.is_meta:\n",
    "            # filtering out control changes\n",
    "            if (msg.type == 'note_on'):\n",
    "                # normalizing note and velocity values\n",
    "                notes.append(msg.note)\n",
    "                \n",
    "    for j in range(1, len(notes)):\n",
    "        chunk.append(notes[j])\n",
    "    print(f\"Processing {i} Song\")\n",
    "    dataset.append(chunk)\n",
    "    chunk = []\n",
    "    notes = []\n",
    "    \n",
    "del chunk\n",
    "del notes\n",
    "\"\"\""
   ]
  },
  {
   "cell_type": "code",
   "execution_count": 6,
   "metadata": {
    "scrolled": true
   },
   "outputs": [],
   "source": [
    "#np.array(dataset).shape"
   ]
  },
  {
   "cell_type": "code",
   "execution_count": 7,
   "metadata": {},
   "outputs": [],
   "source": [
    "from math import sqrt\n",
    "seq_len = 256\n",
    "gen_len = int(sqrt(seq_len))"
   ]
  },
  {
   "cell_type": "code",
   "execution_count": 8,
   "metadata": {},
   "outputs": [
    {
     "data": {
      "text/plain": [
       "'\\nnotes = []\\ndataset = []\\nchunk = []\\n\\n#for each in midi object in list of songs\\nfor i in range(len(songs)):\\n    #for each note in midi object\\n    for msg in songs[i]:\\n        #filtering out meta messages\\n        if not msg.is_meta:\\n            #filtering out control changes\\n            if (msg.type == \\'note_on\\'):\\n                #normalizing note and velocity values\\n                notes.append(msg.note)\\n    for j in range(1, len(notes)):\\n        chunk.append(notes[j])\\n        #save each 16 note chunk\\n        if (j % seq_len == 0):\\n            dataset.append(chunk)\\n            chunk = [] \\n    print(f\"Processing {i} Song\")        \\n    chunk = []\\n    notes = []\\ndel chunk\\ndel notes\\n\\n'"
      ]
     },
     "execution_count": 8,
     "metadata": {},
     "output_type": "execute_result"
    }
   ],
   "source": [
    "\"\"\"\n",
    "notes = []\n",
    "dataset = []\n",
    "chunk = []\n",
    "\n",
    "#for each in midi object in list of songs\n",
    "for i in range(len(songs)):\n",
    "    #for each note in midi object\n",
    "    for msg in songs[i]:\n",
    "        #filtering out meta messages\n",
    "        if not msg.is_meta:\n",
    "            #filtering out control changes\n",
    "            if (msg.type == 'note_on'):\n",
    "                #normalizing note and velocity values\n",
    "                notes.append(msg.note)\n",
    "    for j in range(1, len(notes)):\n",
    "        chunk.append(notes[j])\n",
    "        #save each 16 note chunk\n",
    "        if (j % seq_len == 0):\n",
    "            dataset.append(chunk)\n",
    "            chunk = [] \n",
    "    print(f\"Processing {i} Song\")        \n",
    "    chunk = []\n",
    "    notes = []\n",
    "del chunk\n",
    "del notes\n",
    "\n",
    "\"\"\""
   ]
  },
  {
   "cell_type": "code",
   "execution_count": 9,
   "metadata": {},
   "outputs": [],
   "source": [
    "#train_data = np.array(dataset)\n",
    "#train_data.shape"
   ]
  },
  {
   "cell_type": "code",
   "execution_count": 10,
   "metadata": {},
   "outputs": [],
   "source": [
    "#np.save(\"preprocess_data.npz\",train_data)"
   ]
  },
  {
   "cell_type": "code",
   "execution_count": 11,
   "metadata": {},
   "outputs": [],
   "source": [
    "train_data = np.load(\"preprocess_data.npy\")"
   ]
  },
  {
   "cell_type": "code",
   "execution_count": 12,
   "metadata": {},
   "outputs": [],
   "source": [
    "# Rescale 0 to 1\n",
    "train_data = (train_data / 128)[:3000]"
   ]
  },
  {
   "cell_type": "code",
   "execution_count": 13,
   "metadata": {},
   "outputs": [],
   "source": [
    "import tensorflow as tf\n",
    "from tensorflow.keras.models import Sequential\n",
    "from tensorflow.keras.layers import *\n",
    "from sklearn.model_selection import train_test_split\n",
    "from tensorflow.keras.optimizers import Adam\n",
    "from tensorflow.keras.models import Sequential, Model"
   ]
  },
  {
   "cell_type": "code",
   "execution_count": 14,
   "metadata": {},
   "outputs": [
    {
     "data": {
      "text/plain": [
       "(3000, 256, 1)"
      ]
     },
     "execution_count": 14,
     "metadata": {},
     "output_type": "execute_result"
    }
   ],
   "source": [
    "train_data = train_data.reshape(len(train_data),seq_len,1)\n",
    "train_data.shape"
   ]
  },
  {
   "cell_type": "code",
   "execution_count": 15,
   "metadata": {},
   "outputs": [],
   "source": [
    " def build_generator():\n",
    "\n",
    "        model = Sequential([\n",
    "        Bidirectional(LSTM(128, return_sequences=True), input_shape=(gen_len, gen_len)),\n",
    "        LeakyReLU(alpha=0.2),\n",
    "        Bidirectional(LSTM(128, return_sequences=True)),\n",
    "        LeakyReLU(alpha=0.2),\n",
    "        Bidirectional(LSTM(128)),\n",
    "        LeakyReLU(alpha=0.2),\n",
    "        # specifying output to have 40 timesteps\n",
    "        RepeatVector(seq_len),\n",
    "        # specifying 1 feature as the output\n",
    "        Bidirectional(LSTM(128, return_sequences=True, dropout = 0.2)),\n",
    "        LeakyReLU(alpha=0.2),\n",
    "        Bidirectional(LSTM(128, return_sequences=True, dropout = 0.2)),\n",
    "        LeakyReLU(alpha=0.2),\n",
    "        Bidirectional(LSTM(128, return_sequences=True, dropout = 0.2)),\n",
    "        LeakyReLU(alpha=0.2),\n",
    "        Dropout(0.3),\n",
    "        TimeDistributed(Dense(128)),\n",
    "        LeakyReLU(alpha=0.2),\n",
    "        Dropout(0.4),\n",
    "        TimeDistributed(Dense(128)),\n",
    "        LeakyReLU(alpha=0.2),\n",
    "        Dropout(0.4),\n",
    "        TimeDistributed(Dense(1)),\n",
    "        # back to 0 ~ 1\n",
    "        Activation(\"sigmoid\"),\n",
    "        ])\n",
    "        model.summary()\n",
    "        noise = Input(shape=(gen_len,gen_len))\n",
    "        img = model(noise)\n",
    "        return Model(noise, img)\n"
   ]
  },
  {
   "cell_type": "code",
   "execution_count": 16,
   "metadata": {},
   "outputs": [],
   "source": [
    " def build_discriminator():\n",
    "\n",
    "        model = Sequential([\n",
    "            \n",
    "                Bidirectional(LSTM(128, return_sequences=True), input_shape=(seq_len, 1)),\n",
    "                Activation(\"relu\"),\n",
    "                LeakyReLU(alpha=0.2),\n",
    "                Bidirectional(LSTM(128)),\n",
    "                Activation(\"relu\"),\n",
    "                LeakyReLU(alpha=0.2),\n",
    "                Dropout(0.4),\n",
    "                RepeatVector(1),\n",
    "                TimeDistributed(Dense(128, activation = 'sigmoid')),\n",
    "                LeakyReLU(alpha=0.2),\n",
    "                Dropout(0.4),\n",
    "                TimeDistributed(Dense(128, activation = 'relu')),\n",
    "                LeakyReLU(alpha=0.2),\n",
    "                Dropout(0.4),\n",
    "                TimeDistributed(Dense(1, activation = 'linear'))\n",
    "                    \n",
    "        ])\n",
    "            \n",
    "        model.summary()\n",
    "\n",
    "        img = Input(shape=(seq_len,1))\n",
    "        validity = model(img)\n",
    "\n",
    "        return Model(img, validity)\n",
    "    "
   ]
  },
  {
   "cell_type": "code",
   "execution_count": 17,
   "metadata": {},
   "outputs": [
    {
     "name": "stdout",
     "output_type": "stream",
     "text": [
      "Model: \"sequential\"\n",
      "_________________________________________________________________\n",
      "Layer (type)                 Output Shape              Param #   \n",
      "=================================================================\n",
      "bidirectional (Bidirectional (None, 16, 256)           148480    \n",
      "_________________________________________________________________\n",
      "leaky_re_lu (LeakyReLU)      (None, 16, 256)           0         \n",
      "_________________________________________________________________\n",
      "bidirectional_1 (Bidirection (None, 16, 256)           394240    \n",
      "_________________________________________________________________\n",
      "leaky_re_lu_1 (LeakyReLU)    (None, 16, 256)           0         \n",
      "_________________________________________________________________\n",
      "bidirectional_2 (Bidirection (None, 256)               394240    \n",
      "_________________________________________________________________\n",
      "leaky_re_lu_2 (LeakyReLU)    (None, 256)               0         \n",
      "_________________________________________________________________\n",
      "repeat_vector (RepeatVector) (None, 256, 256)          0         \n",
      "_________________________________________________________________\n",
      "bidirectional_3 (Bidirection (None, 256, 256)          394240    \n",
      "_________________________________________________________________\n",
      "leaky_re_lu_3 (LeakyReLU)    (None, 256, 256)          0         \n",
      "_________________________________________________________________\n",
      "bidirectional_4 (Bidirection (None, 256, 256)          394240    \n",
      "_________________________________________________________________\n",
      "leaky_re_lu_4 (LeakyReLU)    (None, 256, 256)          0         \n",
      "_________________________________________________________________\n",
      "bidirectional_5 (Bidirection (None, 256, 256)          394240    \n",
      "_________________________________________________________________\n",
      "leaky_re_lu_5 (LeakyReLU)    (None, 256, 256)          0         \n",
      "_________________________________________________________________\n",
      "dropout (Dropout)            (None, 256, 256)          0         \n",
      "_________________________________________________________________\n",
      "time_distributed (TimeDistri (None, 256, 128)          32896     \n",
      "_________________________________________________________________\n",
      "leaky_re_lu_6 (LeakyReLU)    (None, 256, 128)          0         \n",
      "_________________________________________________________________\n",
      "dropout_1 (Dropout)          (None, 256, 128)          0         \n",
      "_________________________________________________________________\n",
      "time_distributed_1 (TimeDist (None, 256, 128)          16512     \n",
      "_________________________________________________________________\n",
      "leaky_re_lu_7 (LeakyReLU)    (None, 256, 128)          0         \n",
      "_________________________________________________________________\n",
      "dropout_2 (Dropout)          (None, 256, 128)          0         \n",
      "_________________________________________________________________\n",
      "time_distributed_2 (TimeDist (None, 256, 1)            129       \n",
      "_________________________________________________________________\n",
      "activation (Activation)      (None, 256, 1)            0         \n",
      "=================================================================\n",
      "Total params: 2,169,217\n",
      "Trainable params: 2,169,217\n",
      "Non-trainable params: 0\n",
      "_________________________________________________________________\n"
     ]
    }
   ],
   "source": [
    "generator_optimizer = tf.keras.optimizers.Adam(1e-4)\n",
    "generator = build_generator()"
   ]
  },
  {
   "cell_type": "code",
   "execution_count": 18,
   "metadata": {},
   "outputs": [
    {
     "name": "stdout",
     "output_type": "stream",
     "text": [
      "Model: \"sequential_1\"\n",
      "_________________________________________________________________\n",
      "Layer (type)                 Output Shape              Param #   \n",
      "=================================================================\n",
      "bidirectional_6 (Bidirection (None, 256, 256)          133120    \n",
      "_________________________________________________________________\n",
      "activation_1 (Activation)    (None, 256, 256)          0         \n",
      "_________________________________________________________________\n",
      "leaky_re_lu_8 (LeakyReLU)    (None, 256, 256)          0         \n",
      "_________________________________________________________________\n",
      "bidirectional_7 (Bidirection (None, 256)               394240    \n",
      "_________________________________________________________________\n",
      "activation_2 (Activation)    (None, 256)               0         \n",
      "_________________________________________________________________\n",
      "leaky_re_lu_9 (LeakyReLU)    (None, 256)               0         \n",
      "_________________________________________________________________\n",
      "dropout_3 (Dropout)          (None, 256)               0         \n",
      "_________________________________________________________________\n",
      "repeat_vector_1 (RepeatVecto (None, 1, 256)            0         \n",
      "_________________________________________________________________\n",
      "time_distributed_3 (TimeDist (None, 1, 128)            32896     \n",
      "_________________________________________________________________\n",
      "leaky_re_lu_10 (LeakyReLU)   (None, 1, 128)            0         \n",
      "_________________________________________________________________\n",
      "dropout_4 (Dropout)          (None, 1, 128)            0         \n",
      "_________________________________________________________________\n",
      "time_distributed_4 (TimeDist (None, 1, 128)            16512     \n",
      "_________________________________________________________________\n",
      "leaky_re_lu_11 (LeakyReLU)   (None, 1, 128)            0         \n",
      "_________________________________________________________________\n",
      "dropout_5 (Dropout)          (None, 1, 128)            0         \n",
      "_________________________________________________________________\n",
      "time_distributed_5 (TimeDist (None, 1, 1)              129       \n",
      "=================================================================\n",
      "Total params: 576,897\n",
      "Trainable params: 576,897\n",
      "Non-trainable params: 0\n",
      "_________________________________________________________________\n"
     ]
    }
   ],
   "source": [
    "# Build and compile the discriminator\n",
    "discriminator_optimizer = tf.keras.optimizers.Adam(1e-4)\n",
    "discriminator = build_discriminator()"
   ]
  },
  {
   "cell_type": "code",
   "execution_count": 19,
   "metadata": {},
   "outputs": [],
   "source": [
    "cross_entropy = tf.keras.losses.BinaryCrossentropy(from_logits=True)\n",
    "def generator_loss(fake_output):\n",
    "    return cross_entropy(tf.ones_like(fake_output), fake_output)\n",
    "def discriminator_loss(real_output, fake_output):\n",
    "    real_loss = cross_entropy(tf.ones_like(real_output), real_output)\n",
    "    fake_loss = cross_entropy(tf.zeros_like(fake_output), fake_output)\n",
    "    total_loss = real_loss + fake_loss\n",
    "    return total_loss"
   ]
  },
  {
   "cell_type": "code",
   "execution_count": 20,
   "metadata": {},
   "outputs": [],
   "source": [
    "@tf.function\n",
    "def train_step(music):\n",
    "    noise = tf.random.normal([Batch,gen_len,gen_len])\n",
    "    with tf.GradientTape() as gen_tape, tf.GradientTape() as disc_tape:\n",
    "         \n",
    "        generated_music = generator(noise, training=True)\n",
    "        real_output = discriminator(music, training=True)\n",
    "        fake_output = discriminator(generated_music, training=True)\n",
    "  \n",
    "        gen_loss = generator_loss(fake_output)\n",
    "        disc_loss = discriminator_loss(real_output, fake_output)\n",
    "        \n",
    "    gradients_of_generator = gen_tape.gradient(gen_loss, generator.trainable_variables)\n",
    "    gradients_of_discriminator = disc_tape.gradient(disc_loss, discriminator.trainable_variables)\n",
    "    generator_optimizer.apply_gradients(zip(gradients_of_generator, generator.trainable_variables))\n",
    "    discriminator_optimizer.apply_gradients(zip(gradients_of_discriminator, discriminator.trainable_variables))\n",
    "    return gen_loss,disc_loss"
   ]
  },
  {
   "cell_type": "code",
   "execution_count": 21,
   "metadata": {},
   "outputs": [],
   "source": [
    "total_Gloss = []\n",
    "total_Dloss = []\n",
    "def train(dataset, epochs):\n",
    "    for epoch in range(epochs):\n",
    "        start = time.time()\n",
    "        G_loss = 0\n",
    "        D_loss = 0\n",
    "        for i,image_batch in enumerate(dataset):\n",
    "            gen_loss,disc_loss = train_step(image_batch)\n",
    "            print(f\"Step：{i} | G_loss：{gen_loss} D_loss：{disc_loss}|\")\n",
    "            G_loss += gen_loss\n",
    "            D_loss += disc_loss\n",
    "        clear_output(wait=True)\n",
    "        print (f'Time for epoch {epoch + 1} is {time.time()-start} sec\\n')\n",
    "        print(f'G_AVE_Loss：{G_loss/len(dataset)}')\n",
    "        print(f'D_AVE_loss：{D_loss/len(dataset)}')\n",
    "        total_Gloss.append(G_loss/len(dataset))\n",
    "        total_Dloss.append(D_loss/len(dataset))\n",
    "        if epoch % 50 == 0:\n",
    "            generator.save_weights(\"generator_weight.h5\")\n",
    "            discriminator.save_weights(\"discriminator_weight.h5\")"
   ]
  },
  {
   "cell_type": "code",
   "execution_count": 51,
   "metadata": {},
   "outputs": [],
   "source": [
    "Batch = 128\n",
    "train_dataset = tf.data.Dataset.from_tensor_slices(train_data).batch(Batch,drop_remainder=True)"
   ]
  },
  {
   "cell_type": "code",
   "execution_count": 52,
   "metadata": {
    "scrolled": true
   },
   "outputs": [
    {
     "name": "stdout",
     "output_type": "stream",
     "text": [
      "Step：0 | G_loss：12.665681838989258 D_loss：0.0006179321790114045|\n",
      "Step：1 | G_loss：13.358270645141602 D_loss：0.0005821032100357115|\n",
      "Step：2 | G_loss：12.677793502807617 D_loss：0.0005055430810898542|\n"
     ]
    },
    {
     "ename": "KeyboardInterrupt",
     "evalue": "",
     "output_type": "error",
     "traceback": [
      "\u001b[0;31m---------------------------------------------------------------------------\u001b[0m",
      "\u001b[0;31mKeyboardInterrupt\u001b[0m                         Traceback (most recent call last)",
      "\u001b[0;32m<ipython-input-52-7c31d8b5f9c5>\u001b[0m in \u001b[0;36m<module>\u001b[0;34m\u001b[0m\n\u001b[0;32m----> 1\u001b[0;31m \u001b[0mtrain\u001b[0m\u001b[0;34m(\u001b[0m\u001b[0mtrain_dataset\u001b[0m\u001b[0;34m,\u001b[0m\u001b[0;36m500\u001b[0m\u001b[0;34m)\u001b[0m\u001b[0;34m\u001b[0m\u001b[0;34m\u001b[0m\u001b[0m\n\u001b[0m",
      "\u001b[0;32m<ipython-input-21-9b0e2809053e>\u001b[0m in \u001b[0;36mtrain\u001b[0;34m(dataset, epochs)\u001b[0m\n\u001b[1;32m      7\u001b[0m         \u001b[0mD_loss\u001b[0m \u001b[0;34m=\u001b[0m \u001b[0;36m0\u001b[0m\u001b[0;34m\u001b[0m\u001b[0;34m\u001b[0m\u001b[0m\n\u001b[1;32m      8\u001b[0m         \u001b[0;32mfor\u001b[0m \u001b[0mi\u001b[0m\u001b[0;34m,\u001b[0m\u001b[0mimage_batch\u001b[0m \u001b[0;32min\u001b[0m \u001b[0menumerate\u001b[0m\u001b[0;34m(\u001b[0m\u001b[0mdataset\u001b[0m\u001b[0;34m)\u001b[0m\u001b[0;34m:\u001b[0m\u001b[0;34m\u001b[0m\u001b[0;34m\u001b[0m\u001b[0m\n\u001b[0;32m----> 9\u001b[0;31m             \u001b[0mgen_loss\u001b[0m\u001b[0;34m,\u001b[0m\u001b[0mdisc_loss\u001b[0m \u001b[0;34m=\u001b[0m \u001b[0mtrain_step\u001b[0m\u001b[0;34m(\u001b[0m\u001b[0mimage_batch\u001b[0m\u001b[0;34m)\u001b[0m\u001b[0;34m\u001b[0m\u001b[0;34m\u001b[0m\u001b[0m\n\u001b[0m\u001b[1;32m     10\u001b[0m             \u001b[0mprint\u001b[0m\u001b[0;34m(\u001b[0m\u001b[0;34mf\"Step：{i} | G_loss：{gen_loss} D_loss：{disc_loss}|\"\u001b[0m\u001b[0;34m)\u001b[0m\u001b[0;34m\u001b[0m\u001b[0;34m\u001b[0m\u001b[0m\n\u001b[1;32m     11\u001b[0m             \u001b[0mG_loss\u001b[0m \u001b[0;34m+=\u001b[0m \u001b[0mgen_loss\u001b[0m\u001b[0;34m\u001b[0m\u001b[0;34m\u001b[0m\u001b[0m\n",
      "\u001b[0;32m/usr/local/lib/python3.8/dist-packages/tensorflow/python/eager/def_function.py\u001b[0m in \u001b[0;36m__call__\u001b[0;34m(self, *args, **kwds)\u001b[0m\n\u001b[1;32m    826\u001b[0m     \u001b[0mtracing_count\u001b[0m \u001b[0;34m=\u001b[0m \u001b[0mself\u001b[0m\u001b[0;34m.\u001b[0m\u001b[0mexperimental_get_tracing_count\u001b[0m\u001b[0;34m(\u001b[0m\u001b[0;34m)\u001b[0m\u001b[0;34m\u001b[0m\u001b[0;34m\u001b[0m\u001b[0m\n\u001b[1;32m    827\u001b[0m     \u001b[0;32mwith\u001b[0m \u001b[0mtrace\u001b[0m\u001b[0;34m.\u001b[0m\u001b[0mTrace\u001b[0m\u001b[0;34m(\u001b[0m\u001b[0mself\u001b[0m\u001b[0;34m.\u001b[0m\u001b[0m_name\u001b[0m\u001b[0;34m)\u001b[0m \u001b[0;32mas\u001b[0m \u001b[0mtm\u001b[0m\u001b[0;34m:\u001b[0m\u001b[0;34m\u001b[0m\u001b[0;34m\u001b[0m\u001b[0m\n\u001b[0;32m--> 828\u001b[0;31m       \u001b[0mresult\u001b[0m \u001b[0;34m=\u001b[0m \u001b[0mself\u001b[0m\u001b[0;34m.\u001b[0m\u001b[0m_call\u001b[0m\u001b[0;34m(\u001b[0m\u001b[0;34m*\u001b[0m\u001b[0margs\u001b[0m\u001b[0;34m,\u001b[0m \u001b[0;34m**\u001b[0m\u001b[0mkwds\u001b[0m\u001b[0;34m)\u001b[0m\u001b[0;34m\u001b[0m\u001b[0;34m\u001b[0m\u001b[0m\n\u001b[0m\u001b[1;32m    829\u001b[0m       \u001b[0mcompiler\u001b[0m \u001b[0;34m=\u001b[0m \u001b[0;34m\"xla\"\u001b[0m \u001b[0;32mif\u001b[0m \u001b[0mself\u001b[0m\u001b[0;34m.\u001b[0m\u001b[0m_experimental_compile\u001b[0m \u001b[0;32melse\u001b[0m \u001b[0;34m\"nonXla\"\u001b[0m\u001b[0;34m\u001b[0m\u001b[0;34m\u001b[0m\u001b[0m\n\u001b[1;32m    830\u001b[0m       \u001b[0mnew_tracing_count\u001b[0m \u001b[0;34m=\u001b[0m \u001b[0mself\u001b[0m\u001b[0;34m.\u001b[0m\u001b[0mexperimental_get_tracing_count\u001b[0m\u001b[0;34m(\u001b[0m\u001b[0;34m)\u001b[0m\u001b[0;34m\u001b[0m\u001b[0;34m\u001b[0m\u001b[0m\n",
      "\u001b[0;32m/usr/local/lib/python3.8/dist-packages/tensorflow/python/eager/def_function.py\u001b[0m in \u001b[0;36m_call\u001b[0;34m(self, *args, **kwds)\u001b[0m\n\u001b[1;32m    853\u001b[0m       \u001b[0;31m# In this case we have created variables on the first call, so we run the\u001b[0m\u001b[0;34m\u001b[0m\u001b[0;34m\u001b[0m\u001b[0;34m\u001b[0m\u001b[0m\n\u001b[1;32m    854\u001b[0m       \u001b[0;31m# defunned version which is guaranteed to never create variables.\u001b[0m\u001b[0;34m\u001b[0m\u001b[0;34m\u001b[0m\u001b[0;34m\u001b[0m\u001b[0m\n\u001b[0;32m--> 855\u001b[0;31m       \u001b[0;32mreturn\u001b[0m \u001b[0mself\u001b[0m\u001b[0;34m.\u001b[0m\u001b[0m_stateless_fn\u001b[0m\u001b[0;34m(\u001b[0m\u001b[0;34m*\u001b[0m\u001b[0margs\u001b[0m\u001b[0;34m,\u001b[0m \u001b[0;34m**\u001b[0m\u001b[0mkwds\u001b[0m\u001b[0;34m)\u001b[0m  \u001b[0;31m# pylint: disable=not-callable\u001b[0m\u001b[0;34m\u001b[0m\u001b[0;34m\u001b[0m\u001b[0m\n\u001b[0m\u001b[1;32m    856\u001b[0m     \u001b[0;32melif\u001b[0m \u001b[0mself\u001b[0m\u001b[0;34m.\u001b[0m\u001b[0m_stateful_fn\u001b[0m \u001b[0;32mis\u001b[0m \u001b[0;32mnot\u001b[0m \u001b[0;32mNone\u001b[0m\u001b[0;34m:\u001b[0m\u001b[0;34m\u001b[0m\u001b[0;34m\u001b[0m\u001b[0m\n\u001b[1;32m    857\u001b[0m       \u001b[0;31m# Release the lock early so that multiple threads can perform the call\u001b[0m\u001b[0;34m\u001b[0m\u001b[0;34m\u001b[0m\u001b[0;34m\u001b[0m\u001b[0m\n",
      "\u001b[0;32m/usr/local/lib/python3.8/dist-packages/tensorflow/python/eager/function.py\u001b[0m in \u001b[0;36m__call__\u001b[0;34m(self, *args, **kwargs)\u001b[0m\n\u001b[1;32m   2940\u001b[0m       (graph_function,\n\u001b[1;32m   2941\u001b[0m        filtered_flat_args) = self._maybe_define_function(args, kwargs)\n\u001b[0;32m-> 2942\u001b[0;31m     return graph_function._call_flat(\n\u001b[0m\u001b[1;32m   2943\u001b[0m         filtered_flat_args, captured_inputs=graph_function.captured_inputs)  # pylint: disable=protected-access\n\u001b[1;32m   2944\u001b[0m \u001b[0;34m\u001b[0m\u001b[0m\n",
      "\u001b[0;32m/usr/local/lib/python3.8/dist-packages/tensorflow/python/eager/function.py\u001b[0m in \u001b[0;36m_call_flat\u001b[0;34m(self, args, captured_inputs, cancellation_manager)\u001b[0m\n\u001b[1;32m   1916\u001b[0m         and executing_eagerly):\n\u001b[1;32m   1917\u001b[0m       \u001b[0;31m# No tape is watching; skip to running the function.\u001b[0m\u001b[0;34m\u001b[0m\u001b[0;34m\u001b[0m\u001b[0;34m\u001b[0m\u001b[0m\n\u001b[0;32m-> 1918\u001b[0;31m       return self._build_call_outputs(self._inference_function.call(\n\u001b[0m\u001b[1;32m   1919\u001b[0m           ctx, args, cancellation_manager=cancellation_manager))\n\u001b[1;32m   1920\u001b[0m     forward_backward = self._select_forward_and_backward_functions(\n",
      "\u001b[0;32m/usr/local/lib/python3.8/dist-packages/tensorflow/python/eager/function.py\u001b[0m in \u001b[0;36mcall\u001b[0;34m(self, ctx, args, cancellation_manager)\u001b[0m\n\u001b[1;32m    553\u001b[0m       \u001b[0;32mwith\u001b[0m \u001b[0m_InterpolateFunctionError\u001b[0m\u001b[0;34m(\u001b[0m\u001b[0mself\u001b[0m\u001b[0;34m)\u001b[0m\u001b[0;34m:\u001b[0m\u001b[0;34m\u001b[0m\u001b[0;34m\u001b[0m\u001b[0m\n\u001b[1;32m    554\u001b[0m         \u001b[0;32mif\u001b[0m \u001b[0mcancellation_manager\u001b[0m \u001b[0;32mis\u001b[0m \u001b[0;32mNone\u001b[0m\u001b[0;34m:\u001b[0m\u001b[0;34m\u001b[0m\u001b[0;34m\u001b[0m\u001b[0m\n\u001b[0;32m--> 555\u001b[0;31m           outputs = execute.execute(\n\u001b[0m\u001b[1;32m    556\u001b[0m               \u001b[0mstr\u001b[0m\u001b[0;34m(\u001b[0m\u001b[0mself\u001b[0m\u001b[0;34m.\u001b[0m\u001b[0msignature\u001b[0m\u001b[0;34m.\u001b[0m\u001b[0mname\u001b[0m\u001b[0;34m)\u001b[0m\u001b[0;34m,\u001b[0m\u001b[0;34m\u001b[0m\u001b[0;34m\u001b[0m\u001b[0m\n\u001b[1;32m    557\u001b[0m               \u001b[0mnum_outputs\u001b[0m\u001b[0;34m=\u001b[0m\u001b[0mself\u001b[0m\u001b[0;34m.\u001b[0m\u001b[0m_num_outputs\u001b[0m\u001b[0;34m,\u001b[0m\u001b[0;34m\u001b[0m\u001b[0;34m\u001b[0m\u001b[0m\n",
      "\u001b[0;32m/usr/local/lib/python3.8/dist-packages/tensorflow/python/eager/execute.py\u001b[0m in \u001b[0;36mquick_execute\u001b[0;34m(op_name, num_outputs, inputs, attrs, ctx, name)\u001b[0m\n\u001b[1;32m     57\u001b[0m   \u001b[0;32mtry\u001b[0m\u001b[0;34m:\u001b[0m\u001b[0;34m\u001b[0m\u001b[0;34m\u001b[0m\u001b[0m\n\u001b[1;32m     58\u001b[0m     \u001b[0mctx\u001b[0m\u001b[0;34m.\u001b[0m\u001b[0mensure_initialized\u001b[0m\u001b[0;34m(\u001b[0m\u001b[0;34m)\u001b[0m\u001b[0;34m\u001b[0m\u001b[0;34m\u001b[0m\u001b[0m\n\u001b[0;32m---> 59\u001b[0;31m     tensors = pywrap_tfe.TFE_Py_Execute(ctx._handle, device_name, op_name,\n\u001b[0m\u001b[1;32m     60\u001b[0m                                         inputs, attrs, num_outputs)\n\u001b[1;32m     61\u001b[0m   \u001b[0;32mexcept\u001b[0m \u001b[0mcore\u001b[0m\u001b[0;34m.\u001b[0m\u001b[0m_NotOkStatusException\u001b[0m \u001b[0;32mas\u001b[0m \u001b[0me\u001b[0m\u001b[0;34m:\u001b[0m\u001b[0;34m\u001b[0m\u001b[0;34m\u001b[0m\u001b[0m\n",
      "\u001b[0;31mKeyboardInterrupt\u001b[0m: "
     ]
    }
   ],
   "source": [
    "train(train_dataset,500)"
   ]
  },
  {
   "cell_type": "code",
   "execution_count": 55,
   "metadata": {},
   "outputs": [],
   "source": [
    "random = np.random.uniform(0,1,(128,gen_len,gen_len))\n",
    "predict = generator.predict(random)\n",
    "predict = predict*128"
   ]
  },
  {
   "cell_type": "code",
   "execution_count": 56,
   "metadata": {},
   "outputs": [],
   "source": [
    "import random\n",
    "midler = MidiFile()\n",
    "track = MidiTrack()\n",
    "midler.tracks.append(track)\n",
    "\n",
    "\n",
    "from mido import MidiFile, MidiTrack, Message\n",
    "\n",
    "track.append(Message('program_change', program=2, time=0))\n",
    "for i in range(10):\n",
    "    for x in range(gen_len):\n",
    "        on_interval = random.randint(50,127)\n",
    "        off_interval = random.randint(0,127)\n",
    "        change_interval = random.randint(0,127)\n",
    "        change_value = random.randint(0,127)\n",
    "        isControl = random.randint(0,1)\n",
    "        track.append(Message('note_on',channel =1, note=int(predict[i][x][0]), velocity=64, time = on_interval)) \n",
    "        if isControl:\n",
    "             track.append(Message('control_change',channel =1, control=64, value=change_value, time = change_interval)) \n",
    "        track.append(Message('note_off',channel =1 ,note=int(predict[i][x][0]), velocity=64, time = off_interval))\n",
    "midler.save('LSTMGAN_song.mid')"
   ]
  },
  {
   "cell_type": "code",
   "execution_count": 27,
   "metadata": {},
   "outputs": [],
   "source": [
    "import matplotlib.pyplot as plt"
   ]
  },
  {
   "cell_type": "code",
   "execution_count": 28,
   "metadata": {},
   "outputs": [
    {
     "data": {
      "text/plain": [
       "[<matplotlib.lines.Line2D at 0x7f9f351da5b0>]"
      ]
     },
     "execution_count": 28,
     "metadata": {},
     "output_type": "execute_result"
    },
    {
     "data": {
      "image/png": "[encoded data removed]",
      "text/plain": [
       "<Figure size 432x288 with 1 Axes>"
      ]
     },
     "metadata": {
      "needs_background": "light"
     },
     "output_type": "display_data"
    }
   ],
   "source": [
    "plt.plot(total_Gloss)"
   ]
  },
  {
   "cell_type": "code",
   "execution_count": 29,
   "metadata": {},
   "outputs": [
    {
     "data": {
      "text/plain": [
       "[<matplotlib.lines.Line2D at 0x7f9f350bf850>]"
      ]
     },
     "execution_count": 29,
     "metadata": {},
     "output_type": "execute_result"
    },
    {
     "data": {
      "image/png": "[encoded data removed]",
      "text/plain": [
       "<Figure size 432x288 with 1 Axes>"
      ]
     },
     "metadata": {
      "needs_background": "light"
     },
     "output_type": "display_data"
    }
   ],
   "source": [
    "plt.plot(total_Dloss)"
   ]
  },
  {
   "cell_type": "code",
   "execution_count": 39,
   "metadata": {},
   "outputs": [],
   "source": [
    "np.save('0612_LSTMgan_gloss.npy', np.array(total_Gloss))\n",
    "np.save('0612_LSTMgan_dis_dloss.npy',np.array(total_Dloss ))"
   ]
  },
  {
   "cell_type": "code",
   "execution_count": 40,
   "metadata": {},
   "outputs": [
    {
     "data": {
      "image/png": "[encoded data removed]",
      "text/plain": [
       "<Figure size 432x288 with 1 Axes>"
      ]
     },
     "metadata": {
      "needs_background": "light"
     },
     "output_type": "display_data"
    }
   ],
   "source": [
    "import matplotlib.pyplot as plt\n",
    "g = np.load('0612_LSTMgan_gloss.npy')\n",
    "month = [i for i in range(len(g))]\n",
    "plt.plot(g,'s-',color = 'r', label=\"generator loss\")\n",
    "d=np.load('0612_LSTMgan_dis_dloss.npy')\n",
    "plt.plot(d,'s-',color = 'b', label=\"discriminator loss\")\n",
    "plt.legend(loc = \"best\", fontsize=10)\n",
    "plt.show()"
   ]
  }
 ],
 "metadata": {
  "kernelspec": {
   "display_name": "Python 3",
   "language": "python",
   "name": "python3"
  },
  "language_info": {
   "codemirror_mode": {
    "name": "ipython",
    "version": 3
   },
   "file_extension": ".py",
   "mimetype": "text/x-python",
   "name": "python",
   "nbconvert_exporter": "python",
   "pygments_lexer": "ipython3",
   "version": "3.7.9"
  }
 },
 "nbformat": 4,
 "nbformat_minor": 4
}
